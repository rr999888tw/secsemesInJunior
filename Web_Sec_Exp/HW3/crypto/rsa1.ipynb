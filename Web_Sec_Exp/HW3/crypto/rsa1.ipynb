{
 "cells": [
  {
   "cell_type": "code",
   "execution_count": 1,
   "metadata": {
    "scrolled": true
   },
   "outputs": [],
   "source": [
    "n_s = '00:ae:5b:b4:f2:66:00:32:59:cf:9a:6f:52:1c:3c:03:41:01:76:cf:16:df:53:95:34:76:ea:e3:b2:1e:de:6c:3c:7b:03:bd:ca:20:b3:1c:00:67:ff:a7:97:e4:e9:10:59:78:73:ee:f1:13:a6:0f:ec:cd:95:de:b5:b2:bf:10:06:6b:e2:22:4a:ce:29:d5:32:dc:0b:5a:74:d2:d0:06:f1'\n",
    "n_s = ''.join(n_s.split(':'))"
   ]
  },
  {
   "cell_type": "code",
   "execution_count": 2,
   "metadata": {},
   "outputs": [
    {
     "data": {
      "text/plain": [
       "'00ae5bb4f266003259cf9a6f521c3c03410176cf16df53953476eae3b21ede6c3c7b03bdca20b31c0067ffa797e4e910597873eef113a60feccd95deb5b2bf10066be2224ace29d532dc0b5a74d2d006f1'"
      ]
     },
     "execution_count": 2,
     "metadata": {},
     "output_type": "execute_result"
    }
   ],
   "source": [
    "n_s"
   ]
  },
  {
   "cell_type": "code",
   "execution_count": 3,
   "metadata": {},
   "outputs": [],
   "source": [
    "e = 65537"
   ]
  },
  {
   "cell_type": "code",
   "execution_count": 4,
   "metadata": {},
   "outputs": [],
   "source": [
    "n = int(n_s, 16)"
   ]
  },
  {
   "cell_type": "code",
   "execution_count": 5,
   "metadata": {},
   "outputs": [
    {
     "data": {
      "text/plain": [
       "3107418240490043721350750035888567930037346022842727545720161948823206440518081504556346829671723286782437916272838033415471073108501919548529007337724822783525742386454014691736602477652346609"
      ]
     },
     "execution_count": 5,
     "metadata": {},
     "output_type": "execute_result"
    }
   ],
   "source": [
    "n"
   ]
  },
  {
   "cell_type": "code",
   "execution_count": 6,
   "metadata": {},
   "outputs": [],
   "source": [
    "c_s = '4261 ada8 8f61 b45d 52b9 0238 aed0 3ef3 caa9 d04a aca5 cda2 fd1b fc9e 32ae daa4 68cb 7fc8 6fe5 9896 0744 1a86 a3e0 df52 1990 379e a6cc 9a53 01d5 cee7 377f d52e af41 4814 25c6 3735 eb84 8048 9845 3a5a'"
   ]
  },
  {
   "cell_type": "code",
   "execution_count": 7,
   "metadata": {},
   "outputs": [],
   "source": [
    "c_s = ''.join(c_s.split(' '))"
   ]
  },
  {
   "cell_type": "code",
   "execution_count": 8,
   "metadata": {},
   "outputs": [],
   "source": [
    "c = int(c_s, 16)"
   ]
  },
  {
   "cell_type": "code",
   "execution_count": 9,
   "metadata": {},
   "outputs": [],
   "source": [
    "p = 1634733645809253848443133883865090859841783670033092312181110852389333100104508151212118167511579\n",
    "q = 1900871281664822113126851573935413975471896789968515493666638539088027103802104498957191261465571"
   ]
  },
  {
   "cell_type": "code",
   "execution_count": 10,
   "metadata": {},
   "outputs": [],
   "source": [
    "r = (p-1)*(q-1)"
   ]
  },
  {
   "cell_type": "code",
   "execution_count": 11,
   "metadata": {},
   "outputs": [],
   "source": [
    "def inv_mod(a, b):\n",
    "    li = [a, b]\n",
    "    p, q = a, b\n",
    "    while p != 1 and q != 1:\n",
    "        r = p % q\n",
    "        li.append(r)\n",
    "        p = q\n",
    "        q = r\n",
    "    li.remove(1)\n",
    "    li.reverse()\n",
    "    k, m = 1, -(li[1]//li[0])\n",
    "    for i in range(len(li)-2):\n",
    "        m0 = m\n",
    "        m = -(li[i+2]//li[i+1])*m0 + k\n",
    "        k = m0\n",
    "    return m%a"
   ]
  },
  {
   "cell_type": "code",
   "execution_count": 12,
   "metadata": {},
   "outputs": [],
   "source": [
    "d = inv_mod(r,e)"
   ]
  },
  {
   "cell_type": "code",
   "execution_count": 13,
   "metadata": {},
   "outputs": [
    {
     "data": {
      "text/plain": [
       "2464047959500535454951489660269116654533786992311074127530789876809197740220694563815619147113537879811295339427915163213618715392333280036495568759211274464407731279798672759722961973941926913"
      ]
     },
     "execution_count": 13,
     "metadata": {},
     "output_type": "execute_result"
    }
   ],
   "source": [
    "d"
   ]
  },
  {
   "cell_type": "code",
   "execution_count": 14,
   "metadata": {},
   "outputs": [
    {
     "data": {
      "text/plain": [
       "'0xae5bb4f266003259cf9a6f521c3c03410176cf16df53953476eae3b21ede6c3c7b03bdca20b31c0067ffa797e4e910597873eef113a60feccd95deb5b2bf10066be2224ace29d532dc0b5a74d2d006f1'"
      ]
     },
     "execution_count": 14,
     "metadata": {},
     "output_type": "execute_result"
    }
   ],
   "source": [
    "hex(n)"
   ]
  },
  {
   "cell_type": "code",
   "execution_count": 15,
   "metadata": {},
   "outputs": [
    {
     "data": {
      "text/plain": [
       "'0x8a422e3a08a81f45185a5debbe77d81cb40c822aa0eca663f3e84ea5efd46fff858c71f2d5fb3137d13b93532570f36d772356c23fea51d39a1e7eeb0bb7e208a614526edcb094b9cf6e260ade687c01'"
      ]
     },
     "execution_count": 15,
     "metadata": {},
     "output_type": "execute_result"
    }
   ],
   "source": [
    "hex(d)"
   ]
  },
  {
   "cell_type": "code",
   "execution_count": 16,
   "metadata": {},
   "outputs": [
    {
     "data": {
      "text/plain": [
       "'0x10001'"
      ]
     },
     "execution_count": 16,
     "metadata": {},
     "output_type": "execute_result"
    }
   ],
   "source": [
    "hex(e)"
   ]
  },
  {
   "cell_type": "code",
   "execution_count": 17,
   "metadata": {},
   "outputs": [
    {
     "data": {
      "text/plain": [
       "'0x4261ada88f61b45d52b90238aed03ef3caa9d04aaca5cda2fd1bfc9e32aedaa468cb7fc86fe5989607441a86a3e0df521990379ea6cc9a5301d5cee7377fd52eaf41481425c63735eb84804898453a5a'"
      ]
     },
     "execution_count": 17,
     "metadata": {},
     "output_type": "execute_result"
    }
   ],
   "source": [
    "hex(c)"
   ]
  },
  {
   "cell_type": "code",
   "execution_count": 18,
   "metadata": {},
   "outputs": [
    {
     "data": {
      "text/plain": [
       "1183054326809368444826723348165708141236982466676736531770616023432296844414378447286216733301309025230229299336637889324694070207141412141719592898115792192797421192090535761574699480262195802"
      ]
     },
     "execution_count": 18,
     "metadata": {},
     "output_type": "execute_result"
    }
   ],
   "source": [
    "c"
   ]
  },
  {
   "cell_type": "code",
   "execution_count": 19,
   "metadata": {},
   "outputs": [],
   "source": [
    "n_s = '02797196da55a20737a066fae17f0f0cbcdd41acf84c91f33ac34d71ecc77614ef23fcd53c6098aae4ddb8429f4bca3fe8f79c510f9180e551baaa1a6b00464c41475f49535f5765414b5f7253410a'"
   ]
  },
  {
   "cell_type": "code",
   "execution_count": 20,
   "metadata": {},
   "outputs": [
    {
     "name": "stdout",
     "output_type": "stream",
     "text": [
      "\u0002yqÚU¢\u00077 fúá\u000f\f",
      "¼ÝA¬øLó:ÃMqìÇv\u0014ï#üÕ<`ªäÝ¸BKÊ?è÷Q\u000fåQºª\u001ak\u0000FLAG_IS_WeAK_rSA\n"
     ]
    }
   ],
   "source": [
    "for i in range(len(n_s)//2):\n",
    "    print(chr(int(n_s[2*i:2*(i+1)], 16)), end='')"
   ]
  },
  {
   "cell_type": "code",
   "execution_count": 21,
   "metadata": {},
   "outputs": [
    {
     "data": {
      "text/plain": [
       "158"
      ]
     },
     "execution_count": 21,
     "metadata": {},
     "output_type": "execute_result"
    }
   ],
   "source": [
    "len(n_s)"
   ]
  },
  {
   "cell_type": "code",
   "execution_count": null,
   "metadata": {},
   "outputs": [],
   "source": []
  }
 ],
 "metadata": {
  "kernelspec": {
   "display_name": "Python 3",
   "language": "python",
   "name": "python3"
  },
  "language_info": {
   "codemirror_mode": {
    "name": "ipython",
    "version": 3
   },
   "file_extension": ".py",
   "mimetype": "text/x-python",
   "name": "python",
   "nbconvert_exporter": "python",
   "pygments_lexer": "ipython3",
   "version": "3.5.2"
  }
 },
 "nbformat": 4,
 "nbformat_minor": 2
}
