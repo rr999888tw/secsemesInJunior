{
 "cells": [
  {
   "cell_type": "code",
   "execution_count": 5,
   "metadata": {},
   "outputs": [
    {
     "name": "stdout",
     "output_type": "stream",
     "text": [
      "None\n"
     ]
    }
   ],
   "source": [
    "from stegano import lsb\n",
    "# secret = lsb.hide(\"./tests/sample-files/Lenna.png\", \"Hello World\")\n",
    "# secret.save(\"./Lenna-secret.png\")\n",
    "\n",
    "clear_message = lsb.reveal(\"./stego2.jpg\")\n",
    "print(clear_message)"
   ]
  },
  {
   "cell_type": "code",
   "execution_count": 10,
   "metadata": {},
   "outputs": [
    {
     "name": "stdout",
     "output_type": "stream",
     "text": [
      "(800, 800)\n",
      "<PixelAccess object at 0x7f00a79e8290>\n"
     ]
    }
   ],
   "source": [
    "from PIL import Image\n",
    "\n",
    "# b = open(\"./stego1.png\", 'r')\n",
    "im = Image.open(\"./stego1.png\") #Can be many different formats.\n",
    "pix = im.load()\n",
    "print (im.size) #Get the width and hight of the image for iterating over\n",
    "print (pix) #Get the RGBA Value of the a pixel of an image\n",
    "# pix[3,3] = (255,255,255) # Set the RGBA Value of the image (tuple)\n",
    "# im.save(\"alive_parrot.png\") # Save the modified pixels as png\n"
   ]
  },
  {
   "cell_type": "code",
   "execution_count": 15,
   "metadata": {},
   "outputs": [],
   "source": [
    "for i in range(im.size[0]):\n",
    "    for j in range(im.size[0]):\n",
    "        pix[i,j] = (0,0,0)\n",
    "im.save(\"alive_parrot.png\") # Save the modified pixels as png\n",
    "\n"
   ]
  },
  {
   "cell_type": "code",
   "execution_count": null,
   "metadata": {},
   "outputs": [],
   "source": []
  }
 ],
 "metadata": {
  "kernelspec": {
   "display_name": "Python 3",
   "language": "python",
   "name": "python3"
  },
  "language_info": {
   "codemirror_mode": {
    "name": "ipython",
    "version": 3
   },
   "file_extension": ".py",
   "mimetype": "text/x-python",
   "name": "python",
   "nbconvert_exporter": "python",
   "pygments_lexer": "ipython3",
   "version": "3.5.2"
  }
 },
 "nbformat": 4,
 "nbformat_minor": 2
}
