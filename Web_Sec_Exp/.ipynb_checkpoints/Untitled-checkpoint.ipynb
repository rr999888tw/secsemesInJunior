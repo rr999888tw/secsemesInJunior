{
 "cells": [
  {
   "cell_type": "code",
   "execution_count": 59,
   "metadata": {},
   "outputs": [
    {
     "name": "stdout",
     "output_type": "stream",
     "text": [
      "[8, 5, 15, 12, 11, 20, 6, 11, 4, 18, 4, 2, 3, 11, 16, 15, 26, 17, 2, 11, 5, 17, 18, 4, 11, 9, 15, 10, 16]\n"
     ]
    }
   ],
   "source": [
    "import numpy as np\n",
    "import Sring\n",
    "\n",
    "\n",
    "\n",
    "\n",
    "\n",
    "ar = \"ifpmluglesecdlqp_rclfrseljpkq\"\n",
    "numAr = []\n",
    "\n",
    "for i in ar:\n",
    "    if(ord(i) == 95): numAr.append(26)\n",
    "    else: numAr.append(ord(i)-ord('a'))\n",
    "        \n",
    "print(numAr)"
   ]
  },
  {
   "cell_type": "code",
   "execution_count": 60,
   "metadata": {},
   "outputs": [
    {
     "name": "stdout",
     "output_type": "stream",
     "text": [
      "[5.0, 4.25, 0.0, 6.0, 5.75, 1.25, 4.5, 5.75, 4.0, 0.75, 4.0, 3.5, 3.75, 5.75, 0.25, 0.0, 2.75, 0.5, 3.5, 5.75, 4.25, 0.5, 0.75, 4.0, 5.75, 5.25, 0.0, 5.5, 0.25]\n"
     ]
    }
   ],
   "source": [
    "# plainText = numAr\n",
    "\n",
    "# for b in range(len(plainText)):\n",
    "#     plainText[b] += 12\n",
    "#     plainText[b] = plainText[b] % 27\n",
    "#     plainText[b] /= 4\n",
    "    \n",
    "# print(plainText)\n",
    "\n",
    "# # for b in range(len(numAr)):\n",
    "# #     numAr[b] \n",
    "# # print(numAr)\n"
   ]
  },
  {
   "cell_type": "code",
   "execution_count": null,
   "metadata": {},
   "outputs": [],
   "source": []
  },
  {
   "cell_type": "code",
   "execution_count": null,
   "metadata": {},
   "outputs": [],
   "source": []
  }
 ],
 "metadata": {
  "kernelspec": {
   "display_name": "Python 3",
   "language": "python",
   "name": "python3"
  },
  "language_info": {
   "codemirror_mode": {
    "name": "ipython",
    "version": 3
   },
   "file_extension": ".py",
   "mimetype": "text/x-python",
   "name": "python",
   "nbconvert_exporter": "python",
   "pygments_lexer": "ipython3",
   "version": "3.5.2"
  }
 },
 "nbformat": 4,
 "nbformat_minor": 2
}
