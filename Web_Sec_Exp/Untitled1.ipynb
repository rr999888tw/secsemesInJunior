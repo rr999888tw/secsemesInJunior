{
 "cells": [
  {
   "cell_type": "code",
   "execution_count": 12,
   "metadata": {},
   "outputs": [
    {
     "name": "stdout",
     "output_type": "stream",
     "text": [
      "['A', 'a', 'Y', '-', '-', 'r', 'p', 'y', 'f', 'n', 'e', 'J', 'B', 'e', 'a', 'a', 'X', '0', 'n', '-', ',', 'Z', 'Z', 'c', 's', '-', 'u', 'X', 'e', 'e', 'S', 'V', 'J', '-', 's', 'h', '2', 't', 'i', 'o', 'a', 'Z', '}', 's', 'l', 'r', 'g', ',', '-', 'c', 'i', 'E', '-', 'a', 'n', 'f', 'G', 't', '.', '-', 'e', 'C', 'I', 'y', 's', 's', '-', 'T', 'z', 'p', 'r', 't', 't', 'F', 'l', 'i', 'o', 'r', 'a', '{', 'G', 'c', 'o', 'u', 'h', 'Q', 'I', 'a', 'd', 'c', 't', 'm', '0', 'l', 't', 't', '-', 'F', 'Y', 'l', 'u', 'u', 'e', 'z', 'T', 'y', 'o', 'r', 'Z', '-']\n",
      "110\n"
     ]
    }
   ],
   "source": [
    "import numpy as np\n",
    "\n",
    "\n",
    "ss = \"AaY--rpyfneJBeaaX0n-,ZZcs-uXeeSVJ-sh2tioaZ}slrg,-ciE-anfGt.-eCIyss-TzprttFliora{GcouhQIadctm0ltt-FYluuezTyorZ-\"\n",
    "ar1 = []\n",
    "for i in ss:\n",
    "   ar1.append(i) \n",
    "print (ar1)\n",
    "\n",
    "print(len(ar1))"
   ]
  },
  {
   "cell_type": "code",
   "execution_count": null,
   "metadata": {},
   "outputs": [],
   "source": []
  }
 ],
 "metadata": {
  "kernelspec": {
   "display_name": "Python 3",
   "language": "python",
   "name": "python3"
  },
  "language_info": {
   "codemirror_mode": {
    "name": "ipython",
    "version": 3
   },
   "file_extension": ".py",
   "mimetype": "text/x-python",
   "name": "python",
   "nbconvert_exporter": "python",
   "pygments_lexer": "ipython3",
   "version": "3.5.2"
  }
 },
 "nbformat": 4,
 "nbformat_minor": 2
}
