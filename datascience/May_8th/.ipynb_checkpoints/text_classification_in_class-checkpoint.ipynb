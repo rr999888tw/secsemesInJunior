{
 "cells": [
  {
   "cell_type": "markdown",
   "metadata": {},
   "source": [
    "# Text classification\n",
    "\n",
    "This notebook contains the code samples found in Chapter 3, Section 5 of [Deep Learning with Python](https://www.manning.com/books/deep-learning-with-python?a_aid=keras&a_bid=76564dff). Note that the original text features far more content, in particular further explanations and figures: in this notebook, you will only find source code and related comments.\n",
    "\n",
    "# Binary classification\n",
    "\n",
    "Two-class classification, or binary classification, may be the most widely applied kind of machine learning problem. In this example, we \n",
    "will learn to classify movie reviews into \"positive\" reviews and \"negative\" reviews, just based on the text content of the reviews.\n",
    "\n",
    "# IMDB Movie reviews sentiment classification\n",
    "\n",
    "We'll be working with \"IMDB dataset\", a set of 50,000 highly-polarized reviews from the Internet Movie Database. They are split into 25,000 \n",
    "reviews for training and 25,000 reviews for testing, each set consisting in 50% negative and 50% positive reviews.\n",
    "\n",
    "Why do we have these two separate training and test sets? You should never test a machine learning model on the same data that you used to \n",
    "train it! Just because a model performs well on its training data doesn't mean that it will perform well on data it has never seen, and \n",
    "what you actually care about is your model's performance on new data (since you already know the labels of your training data -- obviously \n",
    "you don't need your model to predict those). For instance, it is possible that your model could end up merely _memorizing_ a mapping between \n",
    "your training samples and their targets -- which would be completely useless for the task of predicting targets for data never seen before. \n",
    "We will go over this point in much more detail in the next chapter.\n",
    "\n",
    "Just like the MNIST dataset, the IMDB dataset comes packaged with Keras. It has already been preprocessed: the reviews (sequences of words) \n",
    "have been turned into sequences of integers, where each integer stands for a specific word in a dictionary.\n",
    "\n",
    "The following code will load the dataset (when you run it for the first time, about 80MB of data will be downloaded to your machine):"
   ]
  },
  {
   "cell_type": "code",
   "execution_count": 1,
   "metadata": {},
   "outputs": [
    {
     "name": "stderr",
     "output_type": "stream",
     "text": [
      "/usr/local/lib/python3.5/dist-packages/h5py/__init__.py:36: FutureWarning: Conversion of the second argument of issubdtype from `float` to `np.floating` is deprecated. In future, it will be treated as `np.float64 == np.dtype(float).type`.\n",
      "  from ._conv import register_converters as _register_converters\n",
      "Using TensorFlow backend.\n"
     ]
    }
   ],
   "source": [
    "import tensorflow as tf\n",
    "config = tf.ConfigProto()\n",
    "config.gpu_options.allow_growth = True\n",
    "sess = tf.Session(config = config)\n",
    "\n",
    "import copy\n",
    "import numpy as np\n",
    "import matplotlib.pyplot as plt\n",
    "\n",
    "from keras.datasets import imdb, reuters\n",
    "from keras import models\n",
    "from keras import layers\n",
    "from keras.utils.np_utils import to_categorical\n",
    "from keras.preprocessing import sequence"
   ]
  },
  {
   "cell_type": "code",
   "execution_count": 13,
   "metadata": {},
   "outputs": [],
   "source": [
    "# this requires download for the first time\n",
    "(X_train, y_train), (X_test, y_test) = imdb.load_data(num_words = 10000, # top most frequent word to consider\n",
    "                                                      skip_top = 0, # top most frequent word to ignore\n",
    "                                                      maxlen = None, # maximum sequence length\n",
    "                                                      seed = 113, # seed to reproducible data shuffling\n",
    "                                                      start_char = 1, # the start of the sequence will makred with this character\n",
    "                                                      oov_char = 2, # word that were cut off because of the num words and skip top\n",
    "                                                      index_from = 3) # index actual word with this index and higher"
   ]
  },
  {
   "cell_type": "markdown",
   "metadata": {},
   "source": [
    "The argument `num_words=10000` means that we will only keep the top 10,000 most frequently occurring words in the training data. Rare words \n",
    "will be discarded. This allows us to work with vector data of manageable size.\n",
    "\n",
    "The variables `X_train` and `X_test` are lists of reviews, each review being a list of word indices (encoding a sequence of words). \n",
    "`y_train` and `y_test` are lists of 0s and 1s, where 0 stands for \"negative\" and 1 stands for \"positive\":"
   ]
  },
  {
   "cell_type": "code",
   "execution_count": 14,
   "metadata": {},
   "outputs": [
    {
     "name": "stdout",
     "output_type": "stream",
     "text": [
      "[1, 14, 22, 16, 43, 530, 973, 1622, 1385, 65, 458, 4468, 66, 3941, 4, 173, 36, 256, 5, 25, 100, 43, 838, 112, 50, 670, 2, 9, 35, 480, 284, 5, 150, 4, 172, 112, 167, 2, 336, 385, 39, 4, 172, 4536, 1111, 17, 546, 38, 13, 447, 4, 192, 50, 16, 6, 147, 2025, 19, 14, 22, 4, 1920, 4613, 469, 4, 22, 71, 87, 12, 16, 43, 530, 38, 76, 15, 13, 1247, 4, 22, 17, 515, 17, 12, 16, 626, 18, 2, 5, 62, 386, 12, 8, 316, 8, 106, 5, 4, 2223, 5244, 16, 480, 66, 3785, 33, 4, 130, 12, 16, 38, 619, 5, 25, 124, 51, 36, 135, 48, 25, 1415, 33, 6, 22, 12, 215, 28, 77, 52, 5, 14, 407, 16, 82, 2, 8, 4, 107, 117, 5952, 15, 256, 4, 2, 7, 3766, 5, 723, 36, 71, 43, 530, 476, 26, 400, 317, 46, 7, 4, 2, 1029, 13, 104, 88, 4, 381, 15, 297, 98, 32, 2071, 56, 26, 141, 6, 194, 7486, 18, 4, 226, 22, 21, 134, 476, 26, 480, 5, 144, 30, 5535, 18, 51, 36, 28, 224, 92, 25, 104, 4, 226, 65, 16, 38, 1334, 88, 12, 16, 283, 5, 16, 4472, 113, 103, 32, 15, 16, 5345, 19, 178, 32]\n",
      "<class 'list'>\n"
     ]
    }
   ],
   "source": [
    "#############################################################################\n",
    "# TODO: Print the first instance of training data in X_train                #\n",
    "#############################################################################\n",
    "print(X_train[0])\n",
    "print(type(X_train[0]))\n",
    "#############################################################################\n",
    "#                          END OF YOUR CODE                                 #\n",
    "#############################################################################"
   ]
  },
  {
   "cell_type": "code",
   "execution_count": 15,
   "metadata": {},
   "outputs": [
    {
     "name": "stdout",
     "output_type": "stream",
     "text": [
      "1\n",
      "0\n",
      "0\n",
      "1\n",
      "0\n",
      "0\n",
      "1\n",
      "0\n",
      "1\n",
      "0\n"
     ]
    }
   ],
   "source": [
    "#############################################################################\n",
    "# TODO: Print the first 10 labels in y_train                                #\n",
    "#############################################################################\n",
    "for i in range(10):\n",
    "    print(y_train[i])\n",
    "#############################################################################\n",
    "#                          END OF YOUR CODE                                 #\n",
    "#############################################################################"
   ]
  },
  {
   "cell_type": "markdown",
   "metadata": {},
   "source": [
    "### Try to loop through some samples to see the length of the reviews before applying the proprocessing step:"
   ]
  },
  {
   "cell_type": "code",
   "execution_count": 16,
   "metadata": {},
   "outputs": [
    {
     "name": "stdout",
     "output_type": "stream",
     "text": [
      "218\n",
      "189\n",
      "141\n",
      "550\n",
      "147\n",
      "43\n",
      "123\n",
      "562\n",
      "233\n",
      "130\n"
     ]
    }
   ],
   "source": [
    "#############################################################################\n",
    "# TODO: Print the length of the first 10 instance in X_train                #\n",
    "#############################################################################\n",
    "for i in range(10):\n",
    "    print(len(X_train[i]))\n",
    "#############################################################################\n",
    "#                          END OF YOUR CODE                                 #\n",
    "#############################################################################"
   ]
  },
  {
   "cell_type": "markdown",
   "metadata": {},
   "source": [
    "Since we retricted to the top 10000 most frequent words, no word index will exceed 10000:"
   ]
  },
  {
   "cell_type": "code",
   "execution_count": 17,
   "metadata": {},
   "outputs": [
    {
     "data": {
      "text/plain": [
       "9999"
      ]
     },
     "execution_count": 17,
     "metadata": {},
     "output_type": "execute_result"
    }
   ],
   "source": [
    "max([max(seq) for seq in X_train])"
   ]
  },
  {
   "cell_type": "markdown",
   "metadata": {},
   "source": [
    "## Restore word from index"
   ]
  },
  {
   "cell_type": "code",
   "execution_count": 18,
   "metadata": {},
   "outputs": [
    {
     "name": "stdout",
     "output_type": "stream",
     "text": [
      "<class 'dict'>\n",
      "88584\n",
      "the as you with out themselves powerful lets loves their becomes reaching had journalist of lot from anyone to have after out atmosphere never more room and it so heart shows to years of every never going and help moments or of every chest visual movie except her was several of enough more with is now current film as you of mine potentially unfortunately of you than him that with out themselves her get for was camp of you movie sometimes movie that with scary but and to story wonderful that in seeing in character to of 70s musicians with heart had shadows they of here that with her serious to have does when from why what have critics they is you that isn't one will very to as itself with other and in of seen over landed for anyone of and br show's to whether from than out themselves history he name half some br of and odd was two most of mean for 1 any an boat she he should is thought frog but of script you not while history he heart to real at barrel but when from one bit then have two of script their with her nobody most that with wasn't to with armed acting watch an for with heartfelt film want an\n"
     ]
    }
   ],
   "source": [
    "# this requires download for the first time\n",
    "word2index = imdb.get_word_index()\n",
    "# reverse it, mapping integer to word\n",
    "#############################################################################\n",
    "# TODO: Reverse word2index, mapping integer to word. And store it into a    #\n",
    "# dictionary called index2word                                              #\n",
    "# Hine: use dict comprehension and items method in dict                     #\n",
    "#############################################################################\n",
    "index2word = {v: k for k, v in word2index.items()}\n",
    "print(type(index2word))\n",
    "print(len(index2word))\n",
    "# print(inv_word2index)\n",
    "\n",
    "#############################################################################\n",
    "#                          END OF YOUR CODE                                 #\n",
    "#############################################################################\n",
    "\n",
    "review_1 = ' '.join([index2word.get(i, '?') for i in X_train[0]])\n",
    "print(review_1)"
   ]
  },
  {
   "cell_type": "markdown",
   "metadata": {},
   "source": [
    "For kicks, here's how you can quickly decode one of these reviews back to English words:"
   ]
  },
  {
   "cell_type": "code",
   "execution_count": 19,
   "metadata": {},
   "outputs": [
    {
     "name": "stdout",
     "output_type": "stream",
     "text": [
      "?\n",
      "the\n",
      "and\n"
     ]
    }
   ],
   "source": [
    "for i in [0, 1, 2]:\n",
    "    print(index2word.get(i, '?'))\n",
    "    \n",
    "#############################################################################\n",
    "# TODO: You should add 3 to the value for every key before reversing        #\n",
    "# since there are 3 special word <PAD> : 0, <START> : 1, and <UNK> : 2      #\n",
    "# And then insert 3 entries to specify those special words as keys and      #\n",
    "# their corresponding value                                                 #\n",
    "# Reverse word2index, mapping integer to word. And store it into a          #\n",
    "# dictionary called index2word                                              #\n",
    "# Hine: use dict comprehension and items method in dict                     #\n",
    "#############################################################################\n",
    "index2word = {v+3: k for k, v in word2index.items()}\n",
    "index2word[0] = \"<PAD>\"\n",
    "index2word[1] = \"<START>\"\n",
    "index2word[2] = \"<UNK>\"\n",
    "\n",
    "    \n",
    "#############################################################################\n",
    "#                          END OF YOUR CODE                                 #\n",
    "#############################################################################"
   ]
  },
  {
   "cell_type": "code",
   "execution_count": 20,
   "metadata": {},
   "outputs": [
    {
     "name": "stdout",
     "output_type": "stream",
     "text": [
      "<START> this film was just brilliant casting location scenery story direction everyone's really suited the part they played and you could just imagine being there robert <UNK> is an amazing actor and now the same being director <UNK> father came from the same scottish island as myself so i loved the fact there was a real connection with this film the witty remarks throughout the film were great it was just brilliant so much that i bought the film as soon as it was released for <UNK> and would recommend it to everyone to watch and the fly fishing was amazing really cried at the end it was so sad and you know what they say if you cry at a film it must have been good and this definitely was also <UNK> to the two little boy's that played the <UNK> of norman and paul they were just brilliant children are often left out of the <UNK> list i think because the stars that play them all grown up are such a big profile for the whole film but these children are amazing and should be praised for what they have done don't you think the whole story was so lovely because it was true and was someone's life after all that was shared with us all\n",
      "1\n"
     ]
    }
   ],
   "source": [
    "review_1 = ' '.join(index2word.get(i, '?') for i in X_train[0])\n",
    "print(review_1)\n",
    "print(word2index['the'])\n",
    "# print(word2index['<START>'])"
   ]
  },
  {
   "cell_type": "markdown",
   "metadata": {},
   "source": [
    "## Preparing the data\n",
    "\n",
    "We cannot feed lists of integers into a neural network. We have to turn our lists into tensors. There are two ways we could do that:\n",
    "\n",
    "* pad the list so that they all have the same length, and turn them into an integertensor of shape `(samples, word_indices)`, then use as first layer in our network a layer capable of handling such integer tensors (the `Embedding`) layer.\n",
    "* one-hot encoding the lists to turn them into vectors of 0s and 1s.\n",
    "\n",
    "We will go with the latter solution. Let's vectorize our data, which we will do manually for maximum clarity:"
   ]
  },
  {
   "cell_type": "code",
   "execution_count": 21,
   "metadata": {},
   "outputs": [],
   "source": [
    "def vectorize_sequences(sequences, dimension = 10000):\n",
    "#############################################################################\n",
    "# TODO: sequences is a list of instances, each instance contains a list of  #\n",
    "# integers. vectorize_sequences will one-hot encoding the lists to turn     #\n",
    "# them into vectors of 0s and 1s, indicating whether a word appeared in     #\n",
    "# instance.                                                                 #\n",
    "# results will have the dimension of (number of samples, dimension)         #\n",
    "#############################################################################\n",
    "    arr = np.zeros((len(sequences), dimension))\n",
    "    for i, seq in enumerate(sequences):\n",
    "        for j in seq:\n",
    "            arr[i][j] = 1\n",
    "    results = arr\n",
    "#############################################################################\n",
    "#                          END OF YOUR CODE                                 #\n",
    "#############################################################################\n",
    "    return results\n",
    "\n",
    "# vectorized training data\n",
    "X_train_vec = vectorize_sequences(X_train)\n",
    "# vectorized test data\n",
    "X_test_vec = vectorize_sequences(X_test)"
   ]
  },
  {
   "cell_type": "code",
   "execution_count": 22,
   "metadata": {},
   "outputs": [
    {
     "data": {
      "text/plain": [
       "((25000, 10000), (25000, 10000))"
      ]
     },
     "execution_count": 22,
     "metadata": {},
     "output_type": "execute_result"
    }
   ],
   "source": [
    "X_train_vec.shape, X_test_vec.shape"
   ]
  },
  {
   "cell_type": "markdown",
   "metadata": {},
   "source": [
    "Here's what our samples look like now:"
   ]
  },
  {
   "cell_type": "code",
   "execution_count": 23,
   "metadata": {},
   "outputs": [
    {
     "data": {
      "text/plain": [
       "array([0., 1., 1., 0., 1., 1., 1., 1., 1., 1., 0., 0., 1., 1., 1., 1., 1.,\n",
       "       1., 1., 1.])"
      ]
     },
     "execution_count": 23,
     "metadata": {},
     "output_type": "execute_result"
    }
   ],
   "source": [
    "X_train_vec[0][:20]"
   ]
  },
  {
   "cell_type": "markdown",
   "metadata": {},
   "source": [
    "We should also vectorize our labels, which is straightforward"
   ]
  },
  {
   "cell_type": "code",
   "execution_count": 24,
   "metadata": {},
   "outputs": [],
   "source": [
    "y_train_vec = np.asarray(y_train).astype('float32')\n",
    "y_test_vec = np.asarray(y_test).astype('float32')"
   ]
  },
  {
   "cell_type": "markdown",
   "metadata": {},
   "source": [
    "Now our data is ready to be fed into a neural network.\n",
    "\n",
    "## Build the network\n",
    "\n",
    "Our input data is simply vectors, and our labels are scalars (1s and 0s): this is the easiest setup you will ever encounter. A type of \n",
    "network that performs well on such a problem would be a simple stack of fully-connected (`Dense`) layers with `relu` activations: `Dense(16, \n",
    "activation='relu')`\n",
    "\n",
    "The argument being passed to each `Dense` layer (16) is the number of \"hidden units\" of the layer. What's a hidden unit? It's a dimension \n",
    "in the representation space of the layer. You may remember from the previous chapter that each such `Dense` layer with a `relu` activation implements \n",
    "the following chain of tensor operations:\n",
    "\n",
    "`output = relu(dot(W, input) + b)`\n",
    "\n",
    "Having 16 hidden units means that the weight matrix `W` will have shape `(input_dimension, 16)`, i.e. the dot product with `W` will project the \n",
    "input data onto a 16-dimensional representation space (and then we would add the bias vector `b` and apply the `relu` operation). You can \n",
    "intuitively understand the dimensionality of your representation space as \"how much freedom you are allowing the network to have when \n",
    "learning internal representations\". Having more hidden units (a higher-dimensional representation space) allows your network to learn more \n",
    "complex representations, but it makes your network more computationally expensive and may lead to learning unwanted patterns (patterns that \n",
    "will improve performance on the training data but not on the test data).\n",
    "\n",
    "There are two key architecture decisions to be made about such stack of dense layers:\n",
    "\n",
    "* How many layers to use.\n",
    "* How many \"hidden units\" to chose for each layer.\n",
    "\n",
    "In the next chapter, you will learn formal principles to guide you in making these choices. \n",
    "For the time being, you will have to trust us with the following architecture choice: \n",
    "two intermediate layers with 16 hidden units each, \n",
    "and a third layer which will output the scalar prediction regarding the sentiment of the current review. \n",
    "The intermediate layers will use `relu` as their \"activation function\", \n",
    "and the final layer will use a sigmoid activation so as to output a probability \n",
    "(a score between 0 and 1, indicating how likely the sample is to have the target \"1\", i.e. how likely the review is to be positive). \n",
    "A `relu` (rectified linear unit) is a function meant to zero-out negative values, \n",
    "while a sigmoid \"squashes\" arbitrary values into the `[0, 1]` interval, thus outputting something that can be interpreted as a probability.\n",
    "\n",
    "Here's what our network looks like:\n",
    "\n",
    "![3-layer network](https://s3.amazonaws.com/book.keras.io/img/ch3/3_layer_network.png)\n",
    "\n",
    "And here's the Keras implementation, very similar to the MNIST example you saw previously:"
   ]
  },
  {
   "cell_type": "code",
   "execution_count": 25,
   "metadata": {},
   "outputs": [],
   "source": [
    "#############################################################################\n",
    "# TODO: Build a model corresponding the above instructions or build your    #\n",
    "# own model!                                                                #\n",
    "#############################################################################\n",
    "dimension_ = 10000\n",
    "model = models.Sequential()\n",
    "model.add(layers.Dense(16, activation = 'relu', input_shape = (dimension_, )))\n",
    "model.add(layers.Dense(16, activation = 'relu'))\n",
    "model.add(layers.Dense(1, activation = 'relu'))\n",
    "\n",
    "#############################################################################\n",
    "#                          END OF YOUR CODE                                 #\n",
    "#############################################################################"
   ]
  },
  {
   "cell_type": "markdown",
   "metadata": {},
   "source": [
    "Lastly, we need to pick a loss function and an optimizer. Since we are facing a binary classification problem and the output of our network \n",
    "is a probability (we end our network with a single-unit layer with a sigmoid activation), is it best to use the `binary_crossentropy` loss. \n",
    "It isn't the only viable choice: you could use, for instance, `mean_squared_error`. But crossentropy is usually the best choice when you \n",
    "are dealing with models that output probabilities. Crossentropy is a quantity from the field of Information Theory, that measures the \"distance\" \n",
    "between probability distributions, or in our case, between the ground-truth distribution and our predictions.\n",
    "\n",
    "Here's the step where we configure our model with the `adam` optimizer and the `binary_crossentropy` loss function. Note that we will \n",
    "also monitor accuracy during training."
   ]
  },
  {
   "cell_type": "code",
   "execution_count": 26,
   "metadata": {},
   "outputs": [
    {
     "name": "stdout",
     "output_type": "stream",
     "text": [
      "_________________________________________________________________\n",
      "Layer (type)                 Output Shape              Param #   \n",
      "=================================================================\n",
      "dense_1 (Dense)              (None, 16)                160016    \n",
      "_________________________________________________________________\n",
      "dense_2 (Dense)              (None, 16)                272       \n",
      "_________________________________________________________________\n",
      "dense_3 (Dense)              (None, 1)                 17        \n",
      "=================================================================\n",
      "Total params: 160,305\n",
      "Trainable params: 160,305\n",
      "Non-trainable params: 0\n",
      "_________________________________________________________________\n"
     ]
    }
   ],
   "source": [
    "model.summary()"
   ]
  },
  {
   "cell_type": "code",
   "execution_count": 27,
   "metadata": {},
   "outputs": [],
   "source": [
    "#############################################################################\n",
    "# TODO: Change any parameters if you desire                                 #\n",
    "#############################################################################\n",
    "model.compile(optimizer = 'adam', \n",
    "              loss = 'binary_crossentropy', \n",
    "              metrics = ['accuracy'])\n",
    "#############################################################################\n",
    "#                          END OF YOUR CODE                                 #\n",
    "#############################################################################"
   ]
  },
  {
   "cell_type": "markdown",
   "metadata": {},
   "source": [
    "## Validating the approach\n",
    "\n",
    "In order to monitor during training the accuracy of the model on data that it has never seen before, we will create a \"validation set\" by \n",
    "setting apart 10,000 samples from the original training data:"
   ]
  },
  {
   "cell_type": "code",
   "execution_count": 28,
   "metadata": {},
   "outputs": [],
   "source": [
    "#############################################################################\n",
    "# TODO: Change the number of validation if you desire                       #\n",
    "#############################################################################\n",
    "X_val = X_train_vec[: 10000]\n",
    "partial_X_train = X_train_vec[10000 :]\n",
    "\n",
    "y_val = y_train_vec[: 10000]\n",
    "partial_y_train = y_train_vec[10000 :]\n",
    "#############################################################################\n",
    "#                          END OF YOUR CODE                                 #\n",
    "#############################################################################"
   ]
  },
  {
   "cell_type": "markdown",
   "metadata": {},
   "source": [
    "We will now train our model for 20 epochs (20 iterations over all samples in the `partial_X_train` and `partual_y_train` tensors), in mini-batches of 512 \n",
    "samples. At this same time we will monitor loss and accuracy on the 10,000 samples that we set apart. This is done by passing the \n",
    "validation data as the `validation_data` argument:"
   ]
  },
  {
   "cell_type": "code",
   "execution_count": 29,
   "metadata": {},
   "outputs": [
    {
     "name": "stdout",
     "output_type": "stream",
     "text": [
      "Train on 15000 samples, validate on 10000 samples\n",
      "Epoch 1/20\n",
      "15000/15000 [==============================] - 2s 125us/step - loss: 1.2668 - acc: 0.5495 - val_loss: 0.6363 - val_acc: 0.6138\n",
      "Epoch 2/20\n",
      "15000/15000 [==============================] - 2s 109us/step - loss: 0.4993 - acc: 0.7658 - val_loss: 0.4255 - val_acc: 0.8162\n",
      "Epoch 3/20\n",
      "15000/15000 [==============================] - 2s 114us/step - loss: 0.3410 - acc: 0.8536 - val_loss: 0.4420 - val_acc: 0.8260\n",
      "Epoch 4/20\n",
      "15000/15000 [==============================] - 2s 105us/step - loss: 0.2395 - acc: 0.8543 - val_loss: 0.4646 - val_acc: 0.8069\n",
      "Epoch 5/20\n",
      "15000/15000 [==============================] - 2s 103us/step - loss: 0.1880 - acc: 0.8453 - val_loss: 0.5080 - val_acc: 0.7673\n",
      "Epoch 6/20\n",
      "15000/15000 [==============================] - 2s 104us/step - loss: 0.1522 - acc: 0.8269 - val_loss: 0.5683 - val_acc: 0.7468\n",
      "Epoch 7/20\n",
      "15000/15000 [==============================] - 2s 103us/step - loss: 0.1270 - acc: 0.8023 - val_loss: 0.6381 - val_acc: 0.7233\n",
      "Epoch 8/20\n",
      "15000/15000 [==============================] - 2s 103us/step - loss: 0.1078 - acc: 0.7873 - val_loss: 0.7061 - val_acc: 0.7004\n",
      "Epoch 9/20\n",
      "15000/15000 [==============================] - 2s 105us/step - loss: 0.0934 - acc: 0.7726 - val_loss: 0.7565 - val_acc: 0.6750\n",
      "Epoch 10/20\n",
      "15000/15000 [==============================] - 2s 105us/step - loss: 0.0818 - acc: 0.7596 - val_loss: 0.8291 - val_acc: 0.6558\n",
      "Epoch 11/20\n",
      "15000/15000 [==============================] - 2s 105us/step - loss: 0.0728 - acc: 0.7444 - val_loss: 0.8801 - val_acc: 0.6475\n",
      "Epoch 12/20\n",
      "15000/15000 [==============================] - 2s 103us/step - loss: 0.0664 - acc: 0.7357 - val_loss: 0.9160 - val_acc: 0.6376\n",
      "Epoch 13/20\n",
      "15000/15000 [==============================] - 2s 104us/step - loss: 0.0614 - acc: 0.7246 - val_loss: 0.9566 - val_acc: 0.6268\n",
      "Epoch 14/20\n",
      "15000/15000 [==============================] - 2s 157us/step - loss: 0.0578 - acc: 0.7127 - val_loss: 0.9980 - val_acc: 0.6119\n",
      "Epoch 15/20\n",
      "15000/15000 [==============================] - 2s 111us/step - loss: 0.0556 - acc: 0.7054 - val_loss: 1.0192 - val_acc: 0.6046\n",
      "Epoch 16/20\n",
      "15000/15000 [==============================] - 2s 166us/step - loss: 0.0537 - acc: 0.6955 - val_loss: 1.0505 - val_acc: 0.5924\n",
      "Epoch 17/20\n",
      "15000/15000 [==============================] - 2s 115us/step - loss: 0.0524 - acc: 0.6895 - val_loss: 1.0831 - val_acc: 0.5950\n",
      "Epoch 18/20\n",
      "15000/15000 [==============================] - 2s 106us/step - loss: 0.0515 - acc: 0.6842 - val_loss: 1.0874 - val_acc: 0.5920\n",
      "Epoch 19/20\n",
      "15000/15000 [==============================] - 2s 127us/step - loss: 0.0509 - acc: 0.6813 - val_loss: 1.0986 - val_acc: 0.5840\n",
      "Epoch 20/20\n",
      "15000/15000 [==============================] - 3s 200us/step - loss: 0.0504 - acc: 0.6755 - val_loss: 1.1066 - val_acc: 0.5819\n"
     ]
    }
   ],
   "source": [
    "#############################################################################\n",
    "# TODO: Change any parameter if you desire                                  #\n",
    "#############################################################################\n",
    "history = model.fit(partial_X_train, \n",
    "                    partial_y_train, \n",
    "                    epochs = 20, \n",
    "                    batch_size = 512, \n",
    "                    validation_data = (X_val, y_val))\n",
    "#############################################################################\n",
    "#                          END OF YOUR CODE                                 #\n",
    "#############################################################################"
   ]
  },
  {
   "cell_type": "markdown",
   "metadata": {},
   "source": [
    "On CPU, this will take less than two seconds per epoch -- training is over in 20 seconds. At the end of every epoch, there is a slight pause \n",
    "as the model computes its loss and accuracy on the 10,000 samples of the validation data.\n",
    "\n",
    "Note that the call to `model.fit()` returns a `History` object. This object has a member `history`, which is a dictionary containing data \n",
    "about everything that happened during training. Let's take a look at it:"
   ]
  },
  {
   "cell_type": "code",
   "execution_count": 30,
   "metadata": {},
   "outputs": [
    {
     "data": {
      "text/plain": [
       "dict_keys(['val_loss', 'val_acc', 'acc', 'loss'])"
      ]
     },
     "execution_count": 30,
     "metadata": {},
     "output_type": "execute_result"
    }
   ],
   "source": [
    "history_dict = history.history\n",
    "history_dict.keys()"
   ]
  },
  {
   "cell_type": "markdown",
   "metadata": {},
   "source": [
    "It contains 4 entries: one per metric that was being monitored, during training and during validation. Let's use Matplotlib to plot the \n",
    "training and validation loss side by side, as well as the training and validation accuracy:"
   ]
  },
  {
   "cell_type": "code",
   "execution_count": 31,
   "metadata": {},
   "outputs": [
    {
     "data": {
      "image/png": "[encoded data removed]",
      "text/plain": [
       "<Figure size 432x288 with 1 Axes>"
      ]
     },
     "metadata": {},
     "output_type": "display_data"
    }
   ],
   "source": [
    "loss = history.history['loss']\n",
    "val_loss = history.history['val_loss']\n",
    "\n",
    "epochs = range(1, len(loss) + 1)\n",
    "\n",
    "plt.plot(epochs, loss, 'bo', label = 'Training loss')\n",
    "plt.plot(epochs, val_loss, 'b', label = 'Validation loss')\n",
    "plt.title('Training and validation loss')\n",
    "plt.xlabel('Epochs')\n",
    "plt.ylabel('Loss')\n",
    "plt.legend()\n",
    "\n",
    "plt.show()"
   ]
  },
  {
   "cell_type": "code",
   "execution_count": 32,
   "metadata": {},
   "outputs": [
    {
     "data": {
      "image/png": "[encoded data removed]",
      "text/plain": [
       "<Figure size 432x288 with 1 Axes>"
      ]
     },
     "metadata": {},
     "output_type": "display_data"
    }
   ],
   "source": [
    "plt.clf() # clear figure\n",
    "\n",
    "acc = history.history['val_acc']\n",
    "val_acc = history.history['acc']\n",
    "\n",
    "plt.plot(epochs, acc, 'bo', label = 'Training acc')\n",
    "plt.plot(epochs, val_acc, 'b', label = 'Validation acc')\n",
    "plt.title('Training and validation accuracy')\n",
    "plt.xlabel('Epochs')\n",
    "plt.ylabel('Acc')\n",
    "plt.legend()\n",
    "\n",
    "plt.show()"
   ]
  },
  {
   "cell_type": "markdown",
   "metadata": {},
   "source": [
    "The dots are the training loss and accuracy, while the solid lines are the validation loss and accuracy. Note that your own results may vary \n",
    "slightly due to a different random initialization of your network.\n",
    "\n",
    "As you can see, the training loss decreases with every epoch and the training accuracy increases with every epoch. That's what you would \n",
    "expect when running gradient descent optimization -- the quantity you are trying to minimize should get lower with every iteration. But that \n",
    "isn't the case for the validation loss and accuracy: they seem to peak at the fourth epoch. This is an example of what we were warning \n",
    "against earlier: a model that performs better on the training data isn't necessarily a model that will do better on data it has never seen \n",
    "before. In precise terms, what you are seeing is \"overfitting\": after the second epoch, we are over-optimizing on the training data, and we \n",
    "ended up learning representations that are specific to the training data and do not generalize to data outside of the training set.\n",
    "\n",
    "In this case, to prevent overfitting, we could simply stop training after three epochs. In general, there is a range of techniques you can \n",
    "leverage to mitigate overfitting, which we will cover in the next chapter.\n",
    "\n",
    "Let's train a new network from scratch for four epochs, then evaluate it on our test data:"
   ]
  },
  {
   "cell_type": "code",
   "execution_count": 33,
   "metadata": {},
   "outputs": [
    {
     "name": "stdout",
     "output_type": "stream",
     "text": [
      "_________________________________________________________________\n",
      "Layer (type)                 Output Shape              Param #   \n",
      "=================================================================\n",
      "dense_4 (Dense)              (None, 160)               1600160   \n",
      "_________________________________________________________________\n",
      "dropout_1 (Dropout)          (None, 160)               0         \n",
      "_________________________________________________________________\n",
      "dense_5 (Dense)              (None, 250)               40250     \n",
      "_________________________________________________________________\n",
      "dropout_2 (Dropout)          (None, 250)               0         \n",
      "_________________________________________________________________\n",
      "dense_6 (Dense)              (None, 1000)              251000    \n",
      "_________________________________________________________________\n",
      "dropout_3 (Dropout)          (None, 1000)              0         \n",
      "_________________________________________________________________\n",
      "dense_7 (Dense)              (None, 160)               160160    \n",
      "_________________________________________________________________\n",
      "dropout_4 (Dropout)          (None, 160)               0         \n",
      "_________________________________________________________________\n",
      "dense_8 (Dense)              (None, 1)                 161       \n",
      "=================================================================\n",
      "Total params: 2,051,731\n",
      "Trainable params: 2,051,731\n",
      "Non-trainable params: 0\n",
      "_________________________________________________________________\n",
      "Train on 15000 samples, validate on 10000 samples\n",
      "Epoch 1/20\n",
      "15000/15000 [==============================] - 8s 539us/step - loss: 2.2057 - acc: 0.5081 - val_loss: 0.5524 - val_acc: 0.7386\n",
      "Epoch 2/20\n",
      "15000/15000 [==============================] - 8s 500us/step - loss: 1.7786 - acc: 0.5281 - val_loss: 0.4090 - val_acc: 0.8155\n",
      "Epoch 3/20\n",
      "15000/15000 [==============================] - 9s 573us/step - loss: 1.2102 - acc: 0.6150 - val_loss: 0.3997 - val_acc: 0.8482\n",
      "Epoch 4/20\n",
      "15000/15000 [==============================] - 8s 560us/step - loss: 0.7966 - acc: 0.7271 - val_loss: 0.4210 - val_acc: 0.8687\n",
      "Epoch 5/20\n",
      "15000/15000 [==============================] - 8s 515us/step - loss: 0.5905 - acc: 0.7842 - val_loss: 0.3766 - val_acc: 0.8803\n",
      "Epoch 6/20\n",
      "15000/15000 [==============================] - 10s 636us/step - loss: 0.4636 - acc: 0.8331 - val_loss: 0.3529 - val_acc: 0.8872\n",
      "Epoch 7/20\n",
      "15000/15000 [==============================] - 7s 442us/step - loss: 0.3759 - acc: 0.8537 - val_loss: 0.3405 - val_acc: 0.8893\n",
      "Epoch 8/20\n",
      "15000/15000 [==============================] - 9s 572us/step - loss: 0.3272 - acc: 0.8719 - val_loss: 0.3317 - val_acc: 0.8906\n",
      "Epoch 9/20\n",
      "15000/15000 [==============================] - 7s 453us/step - loss: 0.2917 - acc: 0.8913 - val_loss: 0.3228 - val_acc: 0.8916\n",
      "Epoch 10/20\n",
      "15000/15000 [==============================] - 8s 522us/step - loss: 0.2617 - acc: 0.9011 - val_loss: 0.3212 - val_acc: 0.8914\n",
      "Epoch 11/20\n",
      "15000/15000 [==============================] - 7s 497us/step - loss: 0.2405 - acc: 0.9065 - val_loss: 0.3259 - val_acc: 0.8910\n",
      "Epoch 12/20\n",
      "15000/15000 [==============================] - 7s 490us/step - loss: 0.2165 - acc: 0.9191 - val_loss: 0.3293 - val_acc: 0.8906\n",
      "Epoch 13/20\n",
      "15000/15000 [==============================] - 7s 450us/step - loss: 0.1999 - acc: 0.9275 - val_loss: 0.3427 - val_acc: 0.8903\n",
      "Epoch 14/20\n",
      "15000/15000 [==============================] - 9s 601us/step - loss: 0.1867 - acc: 0.9316 - val_loss: 0.3509 - val_acc: 0.8895\n",
      "Epoch 15/20\n",
      "15000/15000 [==============================] - 10s 643us/step - loss: 0.1771 - acc: 0.9356 - val_loss: 0.3526 - val_acc: 0.8883\n",
      "Epoch 16/20\n",
      "15000/15000 [==============================] - 7s 483us/step - loss: 0.1634 - acc: 0.9401 - val_loss: 0.3620 - val_acc: 0.8887\n",
      "Epoch 17/20\n",
      "15000/15000 [==============================] - 8s 544us/step - loss: 0.1543 - acc: 0.9426 - val_loss: 0.3773 - val_acc: 0.8861\n",
      "Epoch 18/20\n",
      "15000/15000 [==============================] - 7s 466us/step - loss: 0.1541 - acc: 0.9440 - val_loss: 0.3777 - val_acc: 0.8857\n",
      "Epoch 19/20\n",
      "15000/15000 [==============================] - 7s 460us/step - loss: 0.1392 - acc: 0.9483 - val_loss: 0.4058 - val_acc: 0.8843\n",
      "Epoch 20/20\n",
      "15000/15000 [==============================] - 7s 461us/step - loss: 0.1270 - acc: 0.9551 - val_loss: 0.4227 - val_acc: 0.8845\n"
     ]
    }
   ],
   "source": [
    "#############################################################################\n",
    "# TODO: Redefine your model, compile it, fit it, evaluate it, and store the #\n",
    "# result in results                                                         #\n",
    "#############################################################################\n",
    "\n",
    "dimension_ = 10000\n",
    "model = models.Sequential()\n",
    "model.add(layers.Dense(160, activation = 'selu', input_shape = (dimension_, )))\n",
    "model.add(layers.Dropout(0.8))\n",
    "model.add(layers.Dense(250, activation = 'selu'))\n",
    "model.add(layers.Dropout(0.8))\n",
    "model.add(layers.Dense(1000, activation = 'selu'))\n",
    "model.add(layers.Dropout(0.8))\n",
    "model.add(layers.Dense(160, activation = 'selu'))\n",
    "model.add(layers.Dropout(0.8))\n",
    "model.add(layers.Dense(1, activation = 'sigmoid'))\n",
    "model.summary()\n",
    "\n",
    "model.compile(optimizer = 'adam', \n",
    "              loss = 'binary_crossentropy', \n",
    "              metrics = ['accuracy'])\n",
    "\n",
    "history = model.fit(partial_X_train, \n",
    "                    partial_y_train, \n",
    "                    epochs = 20, \n",
    "                    batch_size = 512, \n",
    "                    validation_data = (X_val, y_val))\n",
    "\n",
    "#############################################################################\n",
    "#                          END OF YOUR CODE                                 #\n",
    "#############################################################################"
   ]
  },
  {
   "cell_type": "code",
   "execution_count": 34,
   "metadata": {},
   "outputs": [
    {
     "name": "stdout",
     "output_type": "stream",
     "text": [
      "25000/25000 [==============================] - 8s 335us/step\n",
      "[0.45732872866749763, 0.87416]\n"
     ]
    }
   ],
   "source": [
    "results = model.evaluate(X_test_vec, y_test_vec)\n",
    "print(results)"
   ]
  },
  {
   "cell_type": "markdown",
   "metadata": {},
   "source": [
    "Our fairly naive approach achieves an accuracy of 88%. With state-of-the-art approaches [Learned in Translation: Contextualized Word Vectors](https://arxiv.org/abs/1708.00107), one should be able to get close to 95%. Its implementation of the paper is at [CoVe](https://github.com/salesforce/cove) and \n",
    "written in [Pytorch](https://pytorch.org/) and its ."
   ]
  },
  {
   "cell_type": "markdown",
   "metadata": {},
   "source": [
    "## Future experiment\n",
    "\n",
    "* We were using 2 hidden layers. Try to use 1 or 3 hidden layers and see how it affects validation and test accuracy.\n",
    "* Try to use layers with more hidden units or less hidden units: 32 units, 64 units...\n",
    "* Try to use the `mse` loss function instead of `binary_crossentropy`.\n",
    "* Try to use the `tanh` activation (an activation that was popular in the early days of neural networks) instead of `relu`.\n",
    "\n",
    "These experiments will help convince you that the architecture choices we have made are all fairly reasonable, although they can still be \n",
    "improved!"
   ]
  },
  {
   "cell_type": "markdown",
   "metadata": {},
   "source": [
    "## Conclusions\n",
    "\n",
    "Here's what you should take away from this example:\n",
    "\n",
    "* There's usually quite a bit of preprocessing you need to do on your raw data in order to be able to feed it -- as tensors -- into a neural \n",
    "network. In the case of sequences of words, they can be encoded as binary vectors -- but there are other encoding options too.\n",
    "* Stacks of `Dense` layers with `relu` activations can solve a wide range of problems (including sentiment classification), and you will \n",
    "likely use them frequently.\n",
    "* In a binary classification problem (two output classes), your network should end with a `Dense` layer with 1 unit and a `sigmoid` activation, \n",
    "i.e. the output of your network should be a scalar between 0 and 1, encoding a probability.\n",
    "* With such a scalar sigmoid output, on a binary classification problem, the loss function you should use is `binary_crossentropy`.\n",
    "* The `rmsprop` optimizer is generally a good enough choice of optimizer, whatever your problem. That's one less thing for you to worry \n",
    "about.\n",
    "* As they get better on their training data, neural networks eventually start _overfitting_ and end up obtaining increasingly worse results on data \n",
    "never-seen-before. Make sure to always monitor performance on data that is outside of the training set."
   ]
  },
  {
   "cell_type": "markdown",
   "metadata": {},
   "source": [
    "# Multi-class classification\n",
    "\n",
    "In the previous section we saw how to classify vector inputs into two mutually exclusive classes using a densely-connected neural network. \n",
    "But what happens when you have more than two classes? \n",
    "\n",
    "In this section, we will build a network to classify Reuters newswires into 46 different mutually-exclusive topics. Since we have many \n",
    "classes, this problem is an instance of \"multi-class classification\", and since each data point should be classified into only one \n",
    "category, the problem is more specifically an instance of \"single-label, multi-class classification\". If each data point could have \n",
    "belonged to multiple categories (in our case, topics) then we would be facing a \"multi-label, multi-class classification\" problem."
   ]
  },
  {
   "cell_type": "markdown",
   "metadata": {},
   "source": [
    "# Reuter-21578 Data set\n",
    "\n",
    "We will be working with the _Reuters dataset_, a set of short newswires and their topics, published by Reuters in 1986. It's a very simple, \n",
    "widely used toy dataset for text classification. There are 46 different topics; some topics are more represented than others, but each \n",
    "topic has at least 10 examples in the training set.\n",
    "\n",
    "Like IMDB and MNIST, the Reuters dataset comes packaged as part of Keras. Let's take a look right away:"
   ]
  },
  {
   "cell_type": "code",
   "execution_count": 40,
   "metadata": {},
   "outputs": [],
   "source": [
    "# this requires download from the first time\n",
    "(X_train, y_train), (X_test, y_test) = reuters.load_data(num_words = 10000, \n",
    "                                                         skip_top = 0, \n",
    "                                                         maxlen = None,\n",
    "                                                         seed = 113,\n",
    "                                                         start_char = 1, \n",
    "                                                         oov_char = 2, \n",
    "                                                         index_from = 3)"
   ]
  },
  {
   "cell_type": "markdown",
   "metadata": {},
   "source": [
    "Like with the IMDB dataset, the argument `num_words=10000` restricts the data to the 10,000 most frequently occurring words found in the \n",
    "data.\n",
    "\n",
    "We have 8,982 training examples and 2,246 test examples:"
   ]
  },
  {
   "cell_type": "code",
   "execution_count": 41,
   "metadata": {},
   "outputs": [
    {
     "data": {
      "text/plain": [
       "(8982, 2246)"
      ]
     },
     "execution_count": 41,
     "metadata": {},
     "output_type": "execute_result"
    }
   ],
   "source": [
    "len(X_train), len(X_test)"
   ]
  },
  {
   "cell_type": "markdown",
   "metadata": {},
   "source": [
    "As with the IMDB reviews, each example is a list of integers (word indices):"
   ]
  },
  {
   "cell_type": "code",
   "execution_count": 42,
   "metadata": {},
   "outputs": [
    {
     "name": "stdout",
     "output_type": "stream",
     "text": [
      "[1, 2, 2, 8, 43, 10, 447, 5, 25, 207, 270, 5, 3095, 111, 16, 369, 186, 90, 67, 7, 89, 5, 19, 102, 6, 19, 124, 15, 90, 67, 84, 22, 482, 26, 7, 48, 4, 49, 8, 864, 39, 209, 154, 6, 151, 6, 83, 11, 15, 22, 155, 11, 15, 7, 48, 9, 4579, 1005, 504, 6, 258, 6, 272, 11, 15, 22, 134, 44, 11, 15, 16, 8, 197, 1245, 90, 67, 52, 29, 209, 30, 32, 132, 6, 109, 15, 17, 12]\n"
     ]
    }
   ],
   "source": [
    "#############################################################################\n",
    "# TODO: Print the first instance of training data in X_train                #\n",
    "#############################################################################\n",
    "print(X_train[0])\n",
    "#############################################################################\n",
    "#                          END OF YOUR CODE                                 #\n",
    "#############################################################################"
   ]
  },
  {
   "cell_type": "markdown",
   "metadata": {},
   "source": [
    "Here's how you can decode it back to words, in case you are curious:"
   ]
  },
  {
   "cell_type": "code",
   "execution_count": 43,
   "metadata": {},
   "outputs": [
    {
     "name": "stdout",
     "output_type": "stream",
     "text": [
      "Downloading data from https://s3.amazonaws.com/text-datasets/reuters_word_index.json\n",
      "557056/550378 [==============================] - 2s 4us/step\n",
      "<START> <UNK> <UNK> said as a result of its december acquisition of space co it expects earnings per share in 1987 of 1 15 to 1 30 dlrs per share up from 70 cts in 1986 the company said pretax net should rise to nine to 10 mln dlrs from six mln dlrs in 1986 and rental operation revenues to 19 to 22 mln dlrs from 12 5 mln dlrs it said cash flow per share this year should be 2 50 to three dlrs reuter 3\n"
     ]
    }
   ],
   "source": [
    "# thie requires for the first time\n",
    "word2index = reuters.get_word_index()\n",
    "#############################################################################\n",
    "# TODO: You should add 3 to the value for every key before reversing        #\n",
    "# since there are 3 special word <PAD> : 0, <START> : 1, and <UNK> : 2      #\n",
    "# And then insert 3 entries to specify those special words as keys and      #\n",
    "# their corresponding value                                                 #\n",
    "# Reverse word2index, mapping integer to word. And store it into a          #\n",
    "# dictionary called index2word                                              #\n",
    "# Hine: use dict comprehension and items method in dict                     #\n",
    "#############################################################################\n",
    "index2word = {v+3: k for k, v in word2index.items()}\n",
    "index2word[0] = \"<PAD>\"\n",
    "index2word[1] = \"<START>\"\n",
    "index2word[2] = \"<UNK>\"\n",
    "#############################################################################\n",
    "#                          END OF YOUR CODE                                 #\n",
    "#############################################################################\n",
    "\n",
    "newswire_1 = ' '.join([index2word.get(i, '?') for i in X_train[0]])\n",
    "print(newswire_1)"
   ]
  },
  {
   "cell_type": "markdown",
   "metadata": {},
   "source": [
    "The label associated with an example is an integer between 0 and 45: a topic index."
   ]
  },
  {
   "cell_type": "code",
   "execution_count": 44,
   "metadata": {},
   "outputs": [
    {
     "data": {
      "text/plain": [
       "3"
      ]
     },
     "execution_count": 44,
     "metadata": {},
     "output_type": "execute_result"
    }
   ],
   "source": [
    "y_train[0]"
   ]
  },
  {
   "cell_type": "markdown",
   "metadata": {},
   "source": [
    "## Prepare the data\n",
    "\n",
    "We can vectorize the data with the exact same code as in our previous example:"
   ]
  },
  {
   "cell_type": "code",
   "execution_count": 45,
   "metadata": {},
   "outputs": [],
   "source": [
    "X_train_vec = vectorize_sequences(X_train)\n",
    "X_test_vec = vectorize_sequences(X_test)"
   ]
  },
  {
   "cell_type": "markdown",
   "metadata": {},
   "source": [
    "To vectorize the labels, there are two possibilities: we could just cast the label list as an integer tensor, or we could use a \"one-hot\" \n",
    "encoding. One-hot encoding is a widely used format for categorical data, also called \"categorical encoding\". \n",
    "For a more detailed explanation of one-hot encoding, you can refer to Chapter 6, Section 1. \n",
    "In our case, one-hot encoding of our labels consists in embedding each label as an all-zero vector with a 1 in the place of the label index, e.g.:"
   ]
  },
  {
   "cell_type": "code",
   "execution_count": 71,
   "metadata": {},
   "outputs": [],
   "source": [
    "def to_one_hot(labels, dimension = 46):\n",
    "#############################################################################\n",
    "# TODO: labels is a list of integer, to_one_hot will change the list of     #\n",
    "# categorical variables into an sparse matrix where each column corresponds #\n",
    "# to one possible label                                                     #\n",
    "# results will have the dimension of (number of samples, dimension)         #\n",
    "#############################################################################\n",
    "    arr = np.zeros((len(labels), dimension))\n",
    "    for i, seq in enumerate(labels):\n",
    "        arr[i][seq] = 1\n",
    "\n",
    "    results = arr\n",
    "#     print(labels.shape)\n",
    "#     print(labels)\n",
    "    \n",
    "#############################################################################\n",
    "#                          END OF YOUR CODE                                 #\n",
    "#############################################################################\n",
    "    return results\n",
    "\n",
    "one_hot_y_train = to_one_hot(y_train)\n",
    "one_hot_y_test = to_one_hot(y_test)\n",
    "\n",
    "# Note that there is a built-in way to do this in Keras, which you have already seen in action in our MNIST example:\n",
    "# one_hot_y_train = to_categorical(y_train)\n",
    "# one_hot_y_test = to_categorical(y_test)"
   ]
  },
  {
   "cell_type": "markdown",
   "metadata": {},
   "source": [
    "## Build the network\n",
    "\n",
    "This topic classification problem looks very similar to our previous movie review classification problem: in both cases, we are trying to \n",
    "classify short snippets of text. There is however a new constraint here: the number of output classes has gone from 2 to 46, i.e. the \n",
    "dimensionality of the output space is much larger. \n",
    "\n",
    "In a stack of `Dense` layers like what we were using, each layer can only access information present in the output of the previous layer. \n",
    "If one layer drops some information relevant to the classification problem, this information can never be recovered by later layers: each \n",
    "layer can potentially become an \"information bottleneck\". In our previous example, we were using 16-dimensional intermediate layers, but a \n",
    "16-dimensional space may be too limited to learn to separate 46 different classes: such small layers may act as information bottlenecks, \n",
    "permanently dropping relevant information.\n",
    "\n",
    "For this reason we will use larger layers. Let's go with 64 units:"
   ]
  },
  {
   "cell_type": "code",
   "execution_count": 72,
   "metadata": {},
   "outputs": [],
   "source": [
    "#############################################################################\n",
    "# TODO: Build a model corresponding the above instructions or build your    #\n",
    "# own model!                                                                #\n",
    "#############################################################################\n",
    "\n",
    "dimension_ = 10000\n",
    "model = models.Sequential()\n",
    "model.add(layers.Dense(16, activation = 'relu', input_shape = (dimension_, )))\n",
    "model.add(layers.Dense(16, activation = 'relu'))\n",
    "model.add(layers.Dense(46, activation = 'softmax'))\n",
    "\n",
    "#############################################################################\n",
    "#                          END OF YOUR CODE                                 #\n",
    "#############################################################################"
   ]
  },
  {
   "cell_type": "markdown",
   "metadata": {},
   "source": [
    "There are two other things you should note about this architecture:\n",
    "\n",
    "* We are ending the network with a `Dense` layer of size 46. This means that for each input sample, our network will output a \n",
    "46-dimensional vector. Each entry in this vector (each dimension) will encode a different output class.\n",
    "* The last layer uses a `softmax` activation. You have already seen this pattern in the MNIST example. It means that the network will \n",
    "output a _probability distribution_ over the 46 different output classes, i.e. for every input sample, the network will produce a \n",
    "46-dimensional output vector where `output[i]` is the probability that the sample belongs to class `i`. The 46 scores will sum to 1.\n",
    "\n",
    "The best loss function to use in this case is `categorical_crossentropy`. It measures the distance between two probability distributions: \n",
    "in our case, between the probability distribution output by our network, and the true distribution of the labels. By minimizing the \n",
    "distance between these two distributions, we train our network to output something as close as possible to the true labels."
   ]
  },
  {
   "cell_type": "code",
   "execution_count": 73,
   "metadata": {},
   "outputs": [],
   "source": [
    "#############################################################################\n",
    "# TODO: Change any parameters if you desire                                 #\n",
    "#############################################################################\n",
    "model.compile(optimizer = 'adam', \n",
    "              loss = 'categorical_crossentropy', \n",
    "              metrics = ['accuracy'])\n",
    "#############################################################################\n",
    "#                          END OF YOUR CODE                                 #\n",
    "#############################################################################"
   ]
  },
  {
   "cell_type": "markdown",
   "metadata": {},
   "source": [
    "## Validating the approach\n",
    "\n",
    "Let's set apart 1,000 samples in our training data to use as a validation set:"
   ]
  },
  {
   "cell_type": "code",
   "execution_count": 74,
   "metadata": {},
   "outputs": [],
   "source": [
    "#############################################################################\n",
    "# TODO: Change the number of validation if you desire                       #\n",
    "#############################################################################\n",
    "X_val = X_train_vec[: 1000]\n",
    "partial_X_train = X_train_vec[1000 :]\n",
    "\n",
    "y_val = one_hot_y_train[: 1000]\n",
    "partial_y_train = one_hot_y_train[1000 :]\n",
    "#############################################################################\n",
    "#                          END OF YOUR CODE                                 #\n",
    "#############################################################################"
   ]
  },
  {
   "cell_type": "markdown",
   "metadata": {},
   "source": [
    "Now let's train our network for 20 epochs:"
   ]
  },
  {
   "cell_type": "code",
   "execution_count": 75,
   "metadata": {},
   "outputs": [
    {
     "name": "stdout",
     "output_type": "stream",
     "text": [
      "Train on 7982 samples, validate on 1000 samples\n",
      "Epoch 1/20\n",
      "7982/7982 [==============================] - 1s 129us/step - loss: 3.7197 - acc: 0.2217 - val_loss: 3.5090 - val_acc: 0.3480\n",
      "Epoch 2/20\n",
      "7982/7982 [==============================] - 1s 84us/step - loss: 3.2290 - acc: 0.3827 - val_loss: 2.9174 - val_acc: 0.3940\n",
      "Epoch 3/20\n",
      "7982/7982 [==============================] - 1s 85us/step - loss: 2.5664 - acc: 0.4964 - val_loss: 2.2787 - val_acc: 0.5960\n",
      "Epoch 4/20\n",
      "7982/7982 [==============================] - 1s 86us/step - loss: 1.9807 - acc: 0.6263 - val_loss: 1.8316 - val_acc: 0.6130\n",
      "Epoch 5/20\n",
      "7982/7982 [==============================] - 1s 86us/step - loss: 1.6173 - acc: 0.6622 - val_loss: 1.5940 - val_acc: 0.6340\n",
      "Epoch 6/20\n",
      "7982/7982 [==============================] - 1s 87us/step - loss: 1.4059 - acc: 0.6814 - val_loss: 1.4650 - val_acc: 0.6480\n",
      "Epoch 7/20\n",
      "7982/7982 [==============================] - 1s 119us/step - loss: 1.2636 - acc: 0.7149 - val_loss: 1.3807 - val_acc: 0.6780\n",
      "Epoch 8/20\n",
      "7982/7982 [==============================] - 1s 177us/step - loss: 1.1574 - acc: 0.7397 - val_loss: 1.3203 - val_acc: 0.6940\n",
      "Epoch 9/20\n",
      "7982/7982 [==============================] - 1s 103us/step - loss: 1.0699 - acc: 0.7568 - val_loss: 1.2777 - val_acc: 0.7100\n",
      "Epoch 10/20\n",
      "7982/7982 [==============================] - 1s 82us/step - loss: 0.9945 - acc: 0.7726 - val_loss: 1.2400 - val_acc: 0.7170\n",
      "Epoch 11/20\n",
      "7982/7982 [==============================] - 1s 81us/step - loss: 0.9251 - acc: 0.7853 - val_loss: 1.2082 - val_acc: 0.7310\n",
      "Epoch 12/20\n",
      "7982/7982 [==============================] - 1s 106us/step - loss: 0.8616 - acc: 0.7977 - val_loss: 1.1861 - val_acc: 0.7350\n",
      "Epoch 13/20\n",
      "7982/7982 [==============================] - 1s 85us/step - loss: 0.8038 - acc: 0.8126 - val_loss: 1.1681 - val_acc: 0.7430\n",
      "Epoch 14/20\n",
      "7982/7982 [==============================] - 1s 162us/step - loss: 0.7488 - acc: 0.8274 - val_loss: 1.1509 - val_acc: 0.7500\n",
      "Epoch 15/20\n",
      "7982/7982 [==============================] - 1s 138us/step - loss: 0.6961 - acc: 0.8398 - val_loss: 1.1338 - val_acc: 0.7510\n",
      "Epoch 16/20\n",
      "7982/7982 [==============================] - 1s 96us/step - loss: 0.6470 - acc: 0.8503 - val_loss: 1.1241 - val_acc: 0.7570\n",
      "Epoch 17/20\n",
      "7982/7982 [==============================] - 1s 89us/step - loss: 0.6020 - acc: 0.8598 - val_loss: 1.1154 - val_acc: 0.7600\n",
      "Epoch 18/20\n",
      "7982/7982 [==============================] - 1s 91us/step - loss: 0.5590 - acc: 0.8700 - val_loss: 1.1079 - val_acc: 0.7690\n",
      "Epoch 19/20\n",
      "7982/7982 [==============================] - 1s 89us/step - loss: 0.5190 - acc: 0.8835 - val_loss: 1.1040 - val_acc: 0.7750\n",
      "Epoch 20/20\n",
      "7982/7982 [==============================] - 1s 92us/step - loss: 0.4831 - acc: 0.8916 - val_loss: 1.1011 - val_acc: 0.7710\n"
     ]
    }
   ],
   "source": [
    "#############################################################################\n",
    "# TODO: Change any parameter if you desire                                  #\n",
    "#############################################################################\n",
    "history = model.fit(partial_X_train, \n",
    "                    partial_y_train, \n",
    "                    epochs = 20, \n",
    "                    batch_size = 512, \n",
    "                    validation_data = (X_val, y_val))\n",
    "#############################################################################\n",
    "#                          END OF YOUR CODE                                 #\n",
    "#############################################################################"
   ]
  },
  {
   "cell_type": "code",
   "execution_count": 76,
   "metadata": {},
   "outputs": [
    {
     "data": {
      "image/png": "[encoded data removed]",
      "text/plain": [
       "<Figure size 432x288 with 1 Axes>"
      ]
     },
     "metadata": {},
     "output_type": "display_data"
    }
   ],
   "source": [
    "loss = history.history['loss']\n",
    "val_loss = history.history['val_loss']\n",
    "\n",
    "epochs = range(1, len(loss) + 1)\n",
    "\n",
    "plt.plot(epochs, loss, 'bo', label = 'Training loss')\n",
    "plt.plot(epochs, val_loss, 'b', label = 'Validation loss')\n",
    "plt.title('Training and validation loss')\n",
    "plt.xlabel('Epochs')\n",
    "plt.ylabel('Loss')\n",
    "plt.legend()\n",
    "\n",
    "plt.show()"
   ]
  },
  {
   "cell_type": "code",
   "execution_count": 77,
   "metadata": {},
   "outputs": [
    {
     "data": {
      "image/png": "[encoded data removed]",
      "text/plain": [
       "<Figure size 432x288 with 1 Axes>"
      ]
     },
     "metadata": {},
     "output_type": "display_data"
    }
   ],
   "source": [
    "plt.clf()\n",
    "\n",
    "acc = history.history['acc']\n",
    "val_acc = history.history['val_acc']\n",
    "\n",
    "plt.plot(epochs, acc, 'bo', label = 'Training acc')\n",
    "plt.plot(epochs, val_acc, 'b', label = 'Validation acc')\n",
    "plt.title('Training and validation accuracy')\n",
    "plt.xlabel('Epochs')\n",
    "plt.ylabel('Acc')\n",
    "plt.legend()\n",
    "\n",
    "plt.show()"
   ]
  },
  {
   "cell_type": "markdown",
   "metadata": {},
   "source": [
    "It seems that the network starts overfitting after 8 epochs. Let's train a new network from scratch for 8 epochs, then let's evaluate it on \n",
    "the test set:"
   ]
  },
  {
   "cell_type": "code",
   "execution_count": 78,
   "metadata": {},
   "outputs": [
    {
     "name": "stdout",
     "output_type": "stream",
     "text": [
      "_________________________________________________________________\n",
      "Layer (type)                 Output Shape              Param #   \n",
      "=================================================================\n",
      "dense_35 (Dense)             (None, 16)                160016    \n",
      "_________________________________________________________________\n",
      "dense_36 (Dense)             (None, 16)                272       \n",
      "_________________________________________________________________\n",
      "dense_37 (Dense)             (None, 16)                272       \n",
      "_________________________________________________________________\n",
      "dense_38 (Dense)             (None, 16)                272       \n",
      "_________________________________________________________________\n",
      "dense_39 (Dense)             (None, 46)                782       \n",
      "=================================================================\n",
      "Total params: 161,614\n",
      "Trainable params: 161,614\n",
      "Non-trainable params: 0\n",
      "_________________________________________________________________\n",
      "Train on 7982 samples, validate on 1000 samples\n",
      "Epoch 1/20\n",
      "7982/7982 [==============================] - 1s 182us/step - loss: 3.7352 - acc: 0.1759 - val_loss: 3.5595 - val_acc: 0.3430\n",
      "Epoch 2/20\n",
      "7982/7982 [==============================] - 1s 143us/step - loss: 3.2870 - acc: 0.4729 - val_loss: 2.9422 - val_acc: 0.5310\n",
      "Epoch 3/20\n",
      "7982/7982 [==============================] - 1s 183us/step - loss: 2.5891 - acc: 0.5428 - val_loss: 2.2701 - val_acc: 0.5370\n",
      "Epoch 4/20\n",
      "7982/7982 [==============================] - 1s 173us/step - loss: 2.0150 - acc: 0.5566 - val_loss: 1.8501 - val_acc: 0.5570\n",
      "Epoch 5/20\n",
      "7982/7982 [==============================] - 1s 89us/step - loss: 1.7058 - acc: 0.5764 - val_loss: 1.6746 - val_acc: 0.5770\n",
      "Epoch 6/20\n",
      "7982/7982 [==============================] - 1s 92us/step - loss: 1.5380 - acc: 0.6030 - val_loss: 1.5820 - val_acc: 0.5960\n",
      "Epoch 7/20\n",
      "7982/7982 [==============================] - 1s 86us/step - loss: 1.4146 - acc: 0.6431 - val_loss: 1.5093 - val_acc: 0.6410\n",
      "Epoch 8/20\n",
      "7982/7982 [==============================] - 1s 88us/step - loss: 1.3055 - acc: 0.6710 - val_loss: 1.4456 - val_acc: 0.6530\n",
      "Epoch 9/20\n",
      "7982/7982 [==============================] - 1s 91us/step - loss: 1.2084 - acc: 0.6838 - val_loss: 1.3952 - val_acc: 0.6570\n",
      "Epoch 10/20\n",
      "7982/7982 [==============================] - 1s 178us/step - loss: 1.1203 - acc: 0.6908 - val_loss: 1.3490 - val_acc: 0.6620\n",
      "Epoch 11/20\n",
      "7982/7982 [==============================] - 1s 183us/step - loss: 1.0367 - acc: 0.7175 - val_loss: 1.3162 - val_acc: 0.6950\n",
      "Epoch 12/20\n",
      "7982/7982 [==============================] - 1s 100us/step - loss: 0.9557 - acc: 0.7533 - val_loss: 1.2854 - val_acc: 0.7070\n",
      "Epoch 13/20\n",
      "7982/7982 [==============================] - 1s 89us/step - loss: 0.8801 - acc: 0.7707 - val_loss: 1.2658 - val_acc: 0.7100\n",
      "Epoch 14/20\n",
      "7982/7982 [==============================] - 1s 97us/step - loss: 0.8109 - acc: 0.7914 - val_loss: 1.2647 - val_acc: 0.7220\n",
      "Epoch 15/20\n",
      "7982/7982 [==============================] - 1s 119us/step - loss: 0.7426 - acc: 0.8077 - val_loss: 1.2530 - val_acc: 0.7290\n",
      "Epoch 16/20\n",
      "7982/7982 [==============================] - 1s 124us/step - loss: 0.6756 - acc: 0.8290 - val_loss: 1.2728 - val_acc: 0.7400\n",
      "Epoch 17/20\n",
      "7982/7982 [==============================] - 1s 131us/step - loss: 0.6178 - acc: 0.8467 - val_loss: 1.2881 - val_acc: 0.7370\n",
      "Epoch 18/20\n",
      "7982/7982 [==============================] - 1s 93us/step - loss: 0.5664 - acc: 0.8569 - val_loss: 1.3116 - val_acc: 0.7420\n",
      "Epoch 19/20\n",
      "7982/7982 [==============================] - 1s 108us/step - loss: 0.5192 - acc: 0.8692 - val_loss: 1.3305 - val_acc: 0.7390\n",
      "Epoch 20/20\n",
      "7982/7982 [==============================] - 1s 123us/step - loss: 0.4787 - acc: 0.8815 - val_loss: 1.3637 - val_acc: 0.7350\n"
     ]
    }
   ],
   "source": [
    "#############################################################################\n",
    "# TODO: Redefine your model, compile it, fit it, evaluate it, and store the #\n",
    "# result in results                                                         #\n",
    "#############################################################################\n",
    "\n",
    "dimension_ = 10000\n",
    "model = models.Sequential()\n",
    "model.add(layers.Dense(16, activation = 'relu', input_shape = (dimension_, )))\n",
    "model.add(layers.Dense(16, activation = 'relu', input_shape = (dimension_, )))\n",
    "model.add(layers.Dense(16, activation = 'relu', input_shape = (dimension_, )))\n",
    "model.add(layers.Dense(16, activation = 'relu'))\n",
    "model.add(layers.Dense(46, activation = 'softmax'))\n",
    "model.summary()\n",
    "\n",
    "model.compile(optimizer = 'adam', \n",
    "              loss = 'categorical_crossentropy', \n",
    "              metrics = ['accuracy'])\n",
    "\n",
    "history = model.fit(partial_X_train, \n",
    "                    partial_y_train, \n",
    "                    epochs = 20, \n",
    "                    batch_size = 512, \n",
    "                    validation_data = (X_val, y_val))\n",
    "\n",
    "#############################################################################\n",
    "#                          END OF YOUR CODE                                 #\n",
    "#############################################################################"
   ]
  },
  {
   "cell_type": "code",
   "execution_count": 79,
   "metadata": {},
   "outputs": [
    {
     "name": "stdout",
     "output_type": "stream",
     "text": [
      "2246/2246 [==============================] - 0s 136us/step\n"
     ]
    },
    {
     "data": {
      "text/plain": [
       "[1.5008579264341033, 0.7088156723063224]"
      ]
     },
     "execution_count": 79,
     "metadata": {},
     "output_type": "execute_result"
    }
   ],
   "source": [
    "results = model.evaluate(X_test_vec, one_hot_y_test)\n",
    "results"
   ]
  },
  {
   "cell_type": "markdown",
   "metadata": {},
   "source": [
    "Our approach reaches an accuracy of ~78%. With a balanced binary classification problem, the accuracy reached by a purely random classifier \n",
    "would be 50%, but in our case it is closer to 19%, so our results seem pretty good, at least when compared to a random baseline:"
   ]
  },
  {
   "cell_type": "code",
   "execution_count": 80,
   "metadata": {},
   "outputs": [
    {
     "data": {
      "text/plain": [
       "0.1794300979519145"
      ]
     },
     "execution_count": 80,
     "metadata": {},
     "output_type": "execute_result"
    }
   ],
   "source": [
    "y_test_copy = copy.copy(y_test)\n",
    "np.random.shuffle(y_test_copy)\n",
    "float(np.sum(np.array(y_test) == np.array(y_test_copy))) / len(y_test)"
   ]
  },
  {
   "cell_type": "markdown",
   "metadata": {},
   "source": [
    "## A different way to handke the labels and the loss\n",
    "\n",
    "We mentioned earlier that another way to encode the labels would be to cast them as an integer tensor.\n",
    "\n",
    "The only thing it would change is the choice of the loss function. Our previous loss, `categorical_crossentropy`, expects the labels to \n",
    "follow a categorical encoding. With integer labels, we should use `sparse_categorical_crossentropy`:"
   ]
  },
  {
   "cell_type": "code",
   "execution_count": 81,
   "metadata": {},
   "outputs": [],
   "source": [
    "y_train = np.array(y_train)\n",
    "y_test = np.array(y_test)\n",
    "\n",
    "model.compile(optimizer = 'adam', loss = 'sparse_categorical_crossentropy', metrics = ['acc'])"
   ]
  },
  {
   "cell_type": "markdown",
   "metadata": {},
   "source": [
    "This new loss function is still mathematically the same as `categorical_crossentropy`; it just has a different interface.\n",
    "\n",
    "## On the importance of having sufficiently karge intermediate layers\n",
    "\n",
    "We mentioned earlier that since our final outputs were 46-dimensional, we should avoid intermediate layers with much less than 46 hidden \n",
    "units. Now let's try to see what happens when we introduce an information bottleneck by having intermediate layers significantly less than \n",
    "46-dimensional, e.g. 4-dimensional."
   ]
  },
  {
   "cell_type": "code",
   "execution_count": 82,
   "metadata": {},
   "outputs": [
    {
     "name": "stdout",
     "output_type": "stream",
     "text": [
      "Train on 7982 samples, validate on 1000 samples\n",
      "Epoch 1/20\n",
      "7982/7982 [==============================] - 2s 206us/step - loss: 3.7988 - acc: 0.0411 - val_loss: 3.7497 - val_acc: 0.0430\n",
      "Epoch 2/20\n",
      "7982/7982 [==============================] - 2s 236us/step - loss: 3.6818 - acc: 0.0517 - val_loss: 3.6316 - val_acc: 0.0560\n",
      "Epoch 3/20\n",
      "7982/7982 [==============================] - 1s 176us/step - loss: 3.5308 - acc: 0.0663 - val_loss: 3.4831 - val_acc: 0.0600\n",
      "Epoch 4/20\n",
      "7982/7982 [==============================] - 1s 159us/step - loss: 3.3424 - acc: 0.0794 - val_loss: 3.2977 - val_acc: 0.0650\n",
      "Epoch 5/20\n",
      "7982/7982 [==============================] - 2s 209us/step - loss: 3.0981 - acc: 0.0963 - val_loss: 3.0372 - val_acc: 0.0880\n",
      "Epoch 6/20\n",
      "7982/7982 [==============================] - 2s 193us/step - loss: 2.7633 - acc: 0.1412 - val_loss: 2.6781 - val_acc: 0.4230\n",
      "Epoch 7/20\n",
      "7982/7982 [==============================] - 1s 157us/step - loss: 2.3313 - acc: 0.4570 - val_loss: 2.2652 - val_acc: 0.4350\n",
      "Epoch 8/20\n",
      "7982/7982 [==============================] - 1s 182us/step - loss: 1.9193 - acc: 0.4624 - val_loss: 1.9385 - val_acc: 0.4530\n",
      "Epoch 9/20\n",
      "7982/7982 [==============================] - 1s 163us/step - loss: 1.5937 - acc: 0.6196 - val_loss: 1.6698 - val_acc: 0.6430\n",
      "Epoch 10/20\n",
      "7982/7982 [==============================] - 1s 155us/step - loss: 1.3593 - acc: 0.6855 - val_loss: 1.5547 - val_acc: 0.6580\n",
      "Epoch 11/20\n",
      "7982/7982 [==============================] - 2s 264us/step - loss: 1.2452 - acc: 0.6997 - val_loss: 1.5115 - val_acc: 0.6570\n",
      "Epoch 12/20\n",
      "7982/7982 [==============================] - 2s 195us/step - loss: 1.1641 - acc: 0.7075 - val_loss: 1.4875 - val_acc: 0.6570\n",
      "Epoch 13/20\n",
      "7982/7982 [==============================] - 2s 210us/step - loss: 1.0923 - acc: 0.7081 - val_loss: 1.4737 - val_acc: 0.6550\n",
      "Epoch 14/20\n",
      "7982/7982 [==============================] - 1s 162us/step - loss: 1.0245 - acc: 0.7082 - val_loss: 1.4535 - val_acc: 0.6590\n",
      "Epoch 15/20\n",
      "7982/7982 [==============================] - 1s 163us/step - loss: 0.9523 - acc: 0.7124 - val_loss: 1.4295 - val_acc: 0.6590\n",
      "Epoch 16/20\n",
      "7982/7982 [==============================] - 1s 163us/step - loss: 0.8776 - acc: 0.7313 - val_loss: 1.4288 - val_acc: 0.6820\n",
      "Epoch 17/20\n",
      "7982/7982 [==============================] - 2s 191us/step - loss: 0.8051 - acc: 0.7707 - val_loss: 1.4206 - val_acc: 0.6950\n",
      "Epoch 18/20\n",
      "7982/7982 [==============================] - 2s 237us/step - loss: 0.7401 - acc: 0.7903 - val_loss: 1.4101 - val_acc: 0.6950\n",
      "Epoch 19/20\n",
      "7982/7982 [==============================] - 1s 159us/step - loss: 0.6864 - acc: 0.8083 - val_loss: 1.4318 - val_acc: 0.6970\n",
      "Epoch 20/20\n",
      "7982/7982 [==============================] - 1s 159us/step - loss: 0.6433 - acc: 0.8170 - val_loss: 1.4336 - val_acc: 0.7020\n"
     ]
    },
    {
     "data": {
      "text/plain": [
       "<keras.callbacks.History at 0x7f48bd9fa358>"
      ]
     },
     "execution_count": 82,
     "metadata": {},
     "output_type": "execute_result"
    }
   ],
   "source": [
    "model = models.Sequential()\n",
    "model.add(layers.Dense(64, activation = 'relu', input_shape = (10000,)))\n",
    "model.add(layers.Dense(4, activation = 'relu'))\n",
    "model.add(layers.Dense(46, activation = 'softmax'))\n",
    "\n",
    "model.compile(optimizer = 'adam', \n",
    "              loss = 'categorical_crossentropy', \n",
    "              metrics = ['accuracy'])\n",
    "model.fit(partial_X_train, \n",
    "          partial_y_train, \n",
    "          epochs = 20, \n",
    "          batch_size = 512, \n",
    "          validation_data = (X_val, y_val))"
   ]
  },
  {
   "cell_type": "markdown",
   "metadata": {},
   "source": [
    "Our network now seems to peak at ~71% test accuracy, a 8% absolute drop. This drop is mostly due to the fact that we are now trying to \n",
    "compress a lot of information (enough information to recover the separation hyperplanes of 46 classes) into an intermediate space that is \n",
    "too low-dimensional. The network is able to cram _most_ of the necessary information into these 8-dimensional representations, but not all \n",
    "of it.\n",
    "\n",
    "## Further experiments\n",
    "\n",
    "* Try using larger or smaller layers: 32 units, 128 units...\n",
    "* We were using two hidden layers. Now try to use a single hidden layer, or three hidden layers.\n",
    "\n",
    "## Wrapping up\n",
    "\n",
    "\n",
    "Here's what you should take away from this example:\n",
    "\n",
    "* If you are trying to classify data points between N classes, your network should end with a `Dense` layer of size N.\n",
    "* In a single-label, multi-class classification problem, your network should end with a `softmax` activation, so that it will output a \n",
    "probability distribution over the N output classes.\n",
    "* _Categorical crossentropy_ is almost always the loss function you should use for such problems. It minimizes the distance between the \n",
    "probability distributions output by the network, and the true distribution of the targets.\n",
    "* There are two ways to handle labels in multi-class classification:\n",
    "    ** Encoding the labels via \"categorical encoding\" (also known as \"one-hot encoding\") and using `categorical_crossentropy` as your loss \n",
    "function.\n",
    "    ** Encoding the labels as integers and using the `sparse_categorical_crossentropy` loss function.\n",
    "* If you need to classify data into a large number of categories, then you should avoid creating information bottlenecks in your network by having \n",
    "intermediate layers that are too small."
   ]
  },
  {
   "cell_type": "code",
   "execution_count": null,
   "metadata": {},
   "outputs": [],
   "source": []
  }
 ],
 "metadata": {
  "kernelspec": {
   "display_name": "Python 3",
   "language": "python",
   "name": "python3"
  },
  "language_info": {
   "codemirror_mode": {
    "name": "ipython",
    "version": 3
   },
   "file_extension": ".py",
   "mimetype": "text/x-python",
   "name": "python",
   "nbconvert_exporter": "python",
   "pygments_lexer": "ipython3",
   "version": "3.5.2"
  }
 },
 "nbformat": 4,
 "nbformat_minor": 2
}
