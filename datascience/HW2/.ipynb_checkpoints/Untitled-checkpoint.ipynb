{
 "cells": [
  {
   "cell_type": "code",
   "execution_count": 1,
   "metadata": {},
   "outputs": [
    {
     "name": "stdout",
     "output_type": "stream",
     "text": [
      "[500, 100, 500, 100, 500, 100, 500, 100, 500, 100, 500, 100, 500, 100, 500, 100, 500, 100, 500, 100]\n",
      "<class 'list'>\n"
     ]
    }
   ],
   "source": [
    "import numpy as np\n",
    "\n",
    "hidden_layer_sizes = [500,100] * 10\n",
    "print(hidden_layer_sizes)\n",
    "print(type(hidden_layer_sizes))"
   ]
  },
  {
   "cell_type": "code",
   "execution_count": 2,
   "metadata": {},
   "outputs": [
    {
     "name": "stdout",
     "output_type": "stream",
     "text": [
      "(1000, 500)\n",
      "<class 'numpy.ndarray'>\n",
      "[[ 0.61253738  0.24998258 -0.18888326 ...  1.68843639 -0.3203503\n",
      "  -0.39845768]\n",
      " [-1.42099853  0.63997424  0.96670865 ... -0.85032387  0.79937474\n",
      "  -1.8706645 ]\n",
      " [ 0.01282422 -0.2621758   0.82837506 ...  0.31145755 -1.05480452\n",
      "  -1.33671399]\n",
      " ...\n",
      " [-0.76166294 -1.44274356 -1.62991794 ... -0.17431064  0.14708198\n",
      "  -0.39984372]\n",
      " [ 0.2358239  -0.33435611  0.66083409 ... -0.14028701  1.87048744\n",
      "   1.68757652]\n",
      " [-0.93248284  0.09462419 -0.43241251 ...  1.15884245  0.1766981\n",
      "  -1.89148981]]\n"
     ]
    }
   ],
   "source": [
    "D = np.random.randn(1000, 500)\n",
    "print(D.shape)\n",
    "print(type(D))\n",
    "print(D)\n",
    "\n"
   ]
  },
  {
   "cell_type": "code",
   "execution_count": 3,
   "metadata": {},
   "outputs": [
    {
     "name": "stdout",
     "output_type": "stream",
     "text": [
      "[ True  True False  True  True  True]\n",
      "[0 0 6 0 0 0]\n"
     ]
    }
   ],
   "source": [
    "a1 = np.array([3, 7, 6, 9, 0, 3])\n",
    "not_n = 6\n",
    "a2 = a1 != not_n\n",
    "print(a2)\n",
    "a1[a2] = 0\n",
    "print(a1)"
   ]
  },
  {
   "cell_type": "code",
   "execution_count": 4,
   "metadata": {},
   "outputs": [
    {
     "name": "stdout",
     "output_type": "stream",
     "text": [
      "[False False False  True  True False  True False False  True False  True]\n",
      "(array([ 3,  4,  6,  9, 11]),)\n",
      "<class 'tuple'>\n"
     ]
    }
   ],
   "source": [
    "idx_list = []\n",
    "# for i in range(len(unique)):\n",
    "#     if count[i] <= n_sampling:\n",
    "#         idx_list.append(np.where(y == unique[i])[0])\n",
    "#         continue\n",
    "#     idx = np.where(y == unique[i])[0]\n",
    "#     idx = np.random.choice(idx, n_sampling, replace = False)\n",
    "#     idx_list.append(idx)\n",
    "y = np.array([0,0,0,1,1,0,1,0,0,1,0,1])\n",
    "print(y == 1)\n",
    "print(np.where(y == 1))\n",
    "print(type(np.where(y == 1)))\n",
    "\n",
    "    "
   ]
  },
  {
   "cell_type": "code",
   "execution_count": 5,
   "metadata": {},
   "outputs": [
    {
     "name": "stdout",
     "output_type": "stream",
     "text": [
      "(3, 3)\n",
      "3\n"
     ]
    }
   ],
   "source": [
    "a = np.array([1,2,3,4,5,6,7,8,9])\n",
    "b = a.reshape((3,3))\n",
    "print(b.shape)\n",
    "print(b.shape[1])\n",
    "\n"
   ]
  },
  {
   "cell_type": "code",
   "execution_count": 6,
   "metadata": {},
   "outputs": [],
   "source": [
    "def rel_error(x, y):\n",
    "  \"\"\" returns relative error \"\"\"\n",
    "  return np.max(np.abs(x - y) / (np.maximum(1e-8, np.abs(x) + np.abs(y))))\n"
   ]
  },
  {
   "cell_type": "code",
   "execution_count": 7,
   "metadata": {},
   "outputs": [
    {
     "name": "stdout",
     "output_type": "stream",
     "text": [
      "1\n",
      "2\n",
      "3\n",
      "4\n",
      "5\n",
      "6\n",
      "7\n",
      "8\n",
      "9\n"
     ]
    }
   ],
   "source": [
    "for i in range(1,10):\n",
    "    print(i)\n"
   ]
  },
  {
   "cell_type": "code",
   "execution_count": 8,
   "metadata": {},
   "outputs": [
    {
     "name": "stdout",
     "output_type": "stream",
     "text": [
      "[7, 8, 9]\n"
     ]
    }
   ],
   "source": [
    "a = [1,2,3,4,5,6,7,8,9]\n",
    "b = a[+2 *3:]\n",
    "\n",
    "print(b)"
   ]
  },
  {
   "cell_type": "code",
   "execution_count": 9,
   "metadata": {},
   "outputs": [
    {
     "name": "stdout",
     "output_type": "stream",
     "text": [
      "[4.9e-324 9.9e-324 1.5e-323 2.0e-323 2.5e-323 3.0e-323 3.5e-323 4.0e-323\n",
      " 4.4e-323]\n",
      "<class 'numpy.ndarray'>\n",
      "1\n",
      "(9,)\n"
     ]
    }
   ],
   "source": [
    "a = np.empty((9,))\n",
    "print(a)\n",
    "print(type(a))\n",
    "print(len(a.shape))\n",
    "print(a.shape)"
   ]
  },
  {
   "cell_type": "code",
   "execution_count": 10,
   "metadata": {},
   "outputs": [
    {
     "name": "stdout",
     "output_type": "stream",
     "text": [
      "[4.9e-324 9.9e-324 1.5e-323 2.0e-323 2.5e-323 3.0e-323 3.5e-323 4.0e-323\n",
      " 4.4e-323]\n",
      "<function <lambda> at 0x7f01c6e23b70>\n"
     ]
    },
    {
     "data": {
      "text/plain": [
       "array([4.9e-324, 9.9e-324, 1.5e-323, 2.0e-323, 2.5e-323, 3.0e-323,\n",
       "       3.5e-323, 4.0e-323, 4.4e-323])"
      ]
     },
     "execution_count": 10,
     "metadata": {},
     "output_type": "execute_result"
    }
   ],
   "source": [
    "B = lambda x: x # linear activation\n",
    "print(a)\n",
    "print(B)\n",
    "B(a)"
   ]
  },
  {
   "cell_type": "code",
   "execution_count": 11,
   "metadata": {},
   "outputs": [
    {
     "name": "stdout",
     "output_type": "stream",
     "text": [
      "[0 1 2 3 4 5 6 7 8]\n",
      "[[0 1 2]\n",
      " [3 4 5]\n",
      " [6 7 8]]\n"
     ]
    }
   ],
   "source": [
    "a = np.array(range(9))\n",
    "print(a)\n",
    "print(a.reshape(*(3,3)))\n"
   ]
  },
  {
   "cell_type": "code",
   "execution_count": 16,
   "metadata": {},
   "outputs": [
    {
     "name": "stdout",
     "output_type": "stream",
     "text": [
      "[[0 1]\n",
      " [2 3]\n",
      " [4 5]]\n",
      "2.5\n",
      "g1 = [0 6]\n",
      "g2 = [0. 3.]\n"
     ]
    }
   ],
   "source": [
    "data = np.arange(6).reshape((3,2))\n",
    "print(data)\n",
    "print(np.average(data))\n",
    "g1 = np.sum([[0, 1], [0, 5]], axis=0)\n",
    "g2 = np.average([[0, 1], [0, 5]], axis=0)\n",
    "\n",
    "print(\"g1 = {}\".format(g1))\n",
    "print(\"g2 = {}\".format(g2))"
   ]
  },
  {
   "cell_type": "code",
   "execution_count": 18,
   "metadata": {},
   "outputs": [
    {
     "name": "stdout",
     "output_type": "stream",
     "text": [
      "[ 4 10 18]\n"
     ]
    }
   ],
   "source": [
    "a = np.array([1,2,3])\n",
    "b = np.array([4,5,6])\n",
    "\n",
    "print(a*b)"
   ]
  },
  {
   "cell_type": "code",
   "execution_count": null,
   "metadata": {},
   "outputs": [],
   "source": []
  }
 ],
 "metadata": {
  "kernelspec": {
   "display_name": "Python 3",
   "language": "python",
   "name": "python3"
  },
  "language_info": {
   "codemirror_mode": {
    "name": "ipython",
    "version": 3
   },
   "file_extension": ".py",
   "mimetype": "text/x-python",
   "name": "python",
   "nbconvert_exporter": "python",
   "pygments_lexer": "ipython3",
   "version": "3.5.2"
  }
 },
 "nbformat": 4,
 "nbformat_minor": 2
}
