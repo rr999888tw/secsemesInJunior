{
 "cells": [
  {
   "cell_type": "code",
   "execution_count": 5,
   "metadata": {},
   "outputs": [
    {
     "name": "stdout",
     "output_type": "stream",
     "text": [
      "[500, 100, 500, 100, 500, 100, 500, 100, 500, 100, 500, 100, 500, 100, 500, 100, 500, 100, 500, 100]\n",
      "<class 'list'>\n"
     ]
    }
   ],
   "source": [
    "import numpy as np\n",
    "\n",
    "hidden_layer_sizes = [500,100] * 10\n",
    "print(hidden_layer_sizes)\n",
    "print(type(hidden_layer_sizes))"
   ]
  },
  {
   "cell_type": "code",
   "execution_count": 11,
   "metadata": {},
   "outputs": [
    {
     "name": "stdout",
     "output_type": "stream",
     "text": [
      "(1000, 500)\n",
      "<class 'numpy.ndarray'>\n",
      "[[ 0.43013788 -1.14063257 -0.08402    ...  1.05243015 -0.21814767\n",
      "  -0.48557476]\n",
      " [-0.42565644  0.45930568 -0.68269821 ...  2.77427708  0.16927841\n",
      "   1.63278881]\n",
      " [ 1.38970473  0.24494722 -0.62572707 ... -1.01857273  0.77229147\n",
      "  -0.28565411]\n",
      " ...\n",
      " [-0.56277337  0.01413787 -0.65148635 ...  0.7144548  -2.21314775\n",
      "   0.62623954]\n",
      " [ 0.56302621  0.24229797  0.27523276 ...  1.37717409  1.15739477\n",
      "  -1.37966993]\n",
      " [ 0.1706793  -0.75457075 -1.04909717 ...  1.13725733  0.93632784\n",
      "  -0.08723644]]\n"
     ]
    }
   ],
   "source": [
    "D = np.random.randn(1000, 500)\n",
    "print(D.shape)\n",
    "print(type(D))\n",
    "print(D)\n",
    "\n"
   ]
  },
  {
   "cell_type": "code",
   "execution_count": 15,
   "metadata": {},
   "outputs": [
    {
     "name": "stdout",
     "output_type": "stream",
     "text": [
      "[ True  True False  True  True  True]\n",
      "[0 0 6 0 0 0]\n"
     ]
    }
   ],
   "source": [
    "a1 = np.array([3, 7, 6, 9, 0, 3])\n",
    "not_n = 6\n",
    "a2 = a1 != not_n\n",
    "print(a2)\n",
    "a1[a2] = 0\n",
    "print(a1)"
   ]
  },
  {
   "cell_type": "code",
   "execution_count": 24,
   "metadata": {},
   "outputs": [
    {
     "name": "stdout",
     "output_type": "stream",
     "text": [
      "[False False False  True  True False  True False False  True False  True]\n",
      "(array([ 3,  4,  6,  9, 11]),)\n",
      "<class 'tuple'>\n"
     ]
    }
   ],
   "source": [
    "idx_list = []\n",
    "# for i in range(len(unique)):\n",
    "#     if count[i] <= n_sampling:\n",
    "#         idx_list.append(np.where(y == unique[i])[0])\n",
    "#         continue\n",
    "#     idx = np.where(y == unique[i])[0]\n",
    "#     idx = np.random.choice(idx, n_sampling, replace = False)\n",
    "#     idx_list.append(idx)\n",
    "y = np.array([0,0,0,1,1,0,1,0,0,1,0,1])\n",
    "print(y == 1)\n",
    "print(np.where(y == 1))\n",
    "print(type(np.where(y == 1)))\n",
    "\n",
    "    "
   ]
  },
  {
   "cell_type": "code",
   "execution_count": null,
   "metadata": {},
   "outputs": [],
   "source": []
  }
 ],
 "metadata": {
  "kernelspec": {
   "display_name": "Python 3",
   "language": "python",
   "name": "python3"
  },
  "language_info": {
   "codemirror_mode": {
    "name": "ipython",
    "version": 3
   },
   "file_extension": ".py",
   "mimetype": "text/x-python",
   "name": "python",
   "nbconvert_exporter": "python",
   "pygments_lexer": "ipython3",
   "version": "3.5.2"
  }
 },
 "nbformat": 4,
 "nbformat_minor": 2
}
