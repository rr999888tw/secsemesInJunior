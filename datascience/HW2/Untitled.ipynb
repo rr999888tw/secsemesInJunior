{
 "cells": [
  {
   "cell_type": "code",
   "execution_count": 16,
   "metadata": {},
   "outputs": [],
   "source": [
    "import numpy as np\n",
    "#         scores = np.zeros((N, num_c))\n",
    "#         for i in range(N):\n",
    "#             unsoft = layer2_output[i]\n",
    "#             exp_arr = np.exp(unsoft)\n",
    "#             scores[i] = exp_arr / np.sum(exp_arr)\n",
    "\n"
   ]
  },
  {
   "cell_type": "code",
   "execution_count": null,
   "metadata": {},
   "outputs": [],
   "source": [
    "        for i in range(N):\n",
    "            unsoft = scores[i]\n",
    "            exp_arr = np.exp(unsoft)\n",
    "            scores[i] = exp_arr / np.sum(exp_arr)\n",
    "        \n",
    "        y_onehot = np.zeros_like(scores)\n",
    "        for i in range(N):\n",
    "            y_onehot[i, y[i]] = 1\n",
    "            \n",
    "        diff = scores - y_onehot\n"
   ]
  }
 ],
 "metadata": {
  "kernelspec": {
   "display_name": "Python 3",
   "language": "python",
   "name": "python3"
  },
  "language_info": {
   "codemirror_mode": {
    "name": "ipython",
    "version": 3
   },
   "file_extension": ".py",
   "mimetype": "text/x-python",
   "name": "python",
   "nbconvert_exporter": "python",
   "pygments_lexer": "ipython3",
   "version": "3.5.2"
  }
 },
 "nbformat": 4,
 "nbformat_minor": 2
}
