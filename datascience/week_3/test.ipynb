{
 "cells": [
  {
   "cell_type": "code",
   "execution_count": 1,
   "metadata": {},
   "outputs": [
    {
     "name": "stderr",
     "output_type": "stream",
     "text": [
      "Using TensorFlow backend.\n"
     ]
    }
   ],
   "source": [
    "%matplotlib inline\n",
    "import numpy as np\n",
    "from keras.datasets import mnist\n",
    "from sklearn.model_selection import StratifiedShuffleSplit\n",
    "import time\n",
    "from random import randrange\n",
    "from past.builtins import xrange\n",
    "import matplotlib.pyplot as plt\n",
    "plt.rcParams['image.interpolation'] = 'nearest'\n",
    "plt.rcParams['image.cmap'] = 'gray'\n",
    "W = np.random.randn(785, 10) * 0.0001\n"
   ]
  },
  {
   "cell_type": "code",
   "execution_count": 2,
   "metadata": {},
   "outputs": [
    {
     "name": "stdout",
     "output_type": "stream",
     "text": [
      "[[1 2]\n",
      " [3 4]\n",
      " [5 6]]\n",
      "[[1 3 5]\n",
      " [2 4 6]]\n",
      "[0 1 1 0 1 1 1 1 1 1]\n",
      "1\n"
     ]
    }
   ],
   "source": [
    "X = np.array([[1,2],[3,4],[5,6]])\n",
    "print(X)\n",
    "print(X.T)\n",
    "y = np.array([0,1,1,0,1,1,1,1,1,1])\n",
    "print(y)\n",
    "print(np.max(y))\n"
   ]
  },
  {
   "cell_type": "code",
   "execution_count": 3,
   "metadata": {},
   "outputs": [
    {
     "name": "stdout",
     "output_type": "stream",
     "text": [
      "[5376 8077  812  562  643 4786 4215  150 7662 1001 8128 7303 4600 5765\n",
      "  766 5198 6255 3906 6673 8258 7767 5098 4143 2924 8308 4286 8850 5692\n",
      "  404 3512  997 9216 1027 9514 3998 4320 3018 2715 7986 7216 1517 3437\n",
      " 1524 3142 3936 2811 6143 6954 2349 6972 4421 8628 1526 3671 8125 2828\n",
      " 9120 7773 5770 8610 2093 2642 5460 4453  587 4408 3997 6793 9655 4490\n",
      " 5648 6350  832 3753 5278 9347 1980  195 9741 5506 3349 6494 8369 7621\n",
      " 5891 9585 7143 2903 6597 5710 4122 1391  238 2875 1324 4153  407  798\n",
      " 1183   11]\n",
      "<class 'numpy.ndarray'>\n"
     ]
    }
   ],
   "source": [
    "num_train=10000\n",
    "batch_size=100\n",
    "idx = np.random.choice(range(num_train),batch_size, replace = False)\n",
    "print(idx)\n",
    "print(type(idx))"
   ]
  },
  {
   "cell_type": "code",
   "execution_count": 4,
   "metadata": {},
   "outputs": [
    {
     "name": "stdout",
     "output_type": "stream",
     "text": [
      "(10, 3)\n",
      "(10,)\n",
      "[[-1.07954664  0.15835643  0.64480203]\n",
      " [ 0.59628307 -0.44682223  0.16945456]\n",
      " [ 0.50878724 -1.19945207 -0.93419787]\n",
      " [-1.92860435 -0.61779429  1.47913223]\n",
      " [ 0.91053702  0.28296675  0.96640112]\n",
      " [-0.37429145  0.8346396   1.22381309]\n",
      " [-0.45665831 -0.17000692 -0.74344415]\n",
      " [-0.14644802 -0.88530384 -1.28638189]\n",
      " [-0.05066554 -0.63396329 -0.31551895]\n",
      " [ 0.55217028  1.57368879  0.96535042]]\n"
     ]
    }
   ],
   "source": [
    "batch_size = 10\n",
    "dim = 3\n",
    "num_train = 5000\n",
    "X = np.random.randn(num_train,dim)\n",
    "X_batch = np.zeros((batch_size,dim))\n",
    "y_batch = np.zeros(batch_size)\n",
    "print(np.shape(X_batch))\n",
    "print(np.shape(y_batch))\n",
    "\n",
    "idx = np.random.choice(range(num_train),batch_size, replace = False)\n",
    "X_batch[range(batch_size)] = X[idx]\n",
    "\n",
    "print(X_batch)"
   ]
  },
  {
   "cell_type": "code",
   "execution_count": 5,
   "metadata": {},
   "outputs": [
    {
     "name": "stdout",
     "output_type": "stream",
     "text": [
      "1\n"
     ]
    }
   ],
   "source": [
    "d1 = [1,4,2,3]\n",
    "print(np.argmax(d1))"
   ]
  },
  {
   "cell_type": "code",
   "execution_count": 6,
   "metadata": {},
   "outputs": [
    {
     "name": "stdout",
     "output_type": "stream",
     "text": [
      "[0. 0. 0. 0.]\n",
      "[1 0 0 1]\n",
      "<class 'numpy.ndarray'>\n",
      "[1. 0. 0. 1.]\n"
     ]
    }
   ],
   "source": [
    "scores = np.array([[0.2,0.8],[0.5,0.5],[0.7,0.3],[0.4,0.6]])\n",
    "N = scores.shape[0]\n",
    "y_pred = np.zeros((N,))\n",
    "print(y_pred)\n",
    "# y_pred[range(N)] = \n",
    "print(np.argmax(scores,axis = 1))\n",
    "print(type(np.argmax(scores,axis = 1)))\n",
    "\n",
    "y_pred[:] = np.argmax(scores,axis = 1)[:]\n",
    "print(y_pred)\n",
    "\n",
    "\n",
    "\n"
   ]
  },
  {
   "cell_type": "code",
   "execution_count": 7,
   "metadata": {},
   "outputs": [
    {
     "name": "stdout",
     "output_type": "stream",
     "text": [
      "[13.  5.]\n"
     ]
    }
   ],
   "source": [
    "a = [[5,12],[3,4]]\n",
    "print(np.linalg.norm(a,axis=1))"
   ]
  },
  {
   "cell_type": "code",
   "execution_count": 18,
   "metadata": {},
   "outputs": [
    {
     "name": "stdout",
     "output_type": "stream",
     "text": [
      "4\n",
      "-1\n",
      "<class 'numpy.int64'>\n"
     ]
    }
   ],
   "source": [
    "w = np.array([[1,2],[3,4],[-1,2]])\n",
    "print (np.max(w))\n",
    "print (np.min(w))\n",
    "print(type(w[0][0]))"
   ]
  },
  {
   "cell_type": "code",
   "execution_count": 24,
   "metadata": {},
   "outputs": [
    {
     "data": {
      "text/plain": [
       "6"
      ]
     },
     "execution_count": 24,
     "metadata": {},
     "output_type": "execute_result"
    }
   ],
   "source": [
    "fo = open(\"best_W.txt\", 'w')\n",
    "fo.write(\"fdddd\\n\")\n",
    "fo.write(\"fdddd\\n\")\n",
    "fo.write(\"fdddd\\n\")\n"
   ]
  },
  {
   "cell_type": "code",
   "execution_count": 41,
   "metadata": {},
   "outputs": [
    {
     "name": "stdout",
     "output_type": "stream",
     "text": [
      "1 2 3\n",
      "4 5 6\n",
      "7 8 9\n",
      "\n",
      "['1 2 3', '4 5 6', '7 8 9', '']\n",
      "<class 'list'>\n",
      "[2, 4, 6]\n"
     ]
    }
   ],
   "source": [
    "matrix = open('myfile.txt').read()\n",
    "# matrix = [item.split() for item in matrix.split('\\n')[:-1]]\n",
    "# matrix = [item.split() for item in matrix.split('\\n')[:-2]]\n",
    "print(matrix)\n",
    "print(matrix.split('\\n'))\n",
    "print(type(matrix.split('\\n')))\n",
    "\n",
    "g = np.array([[1,2],[3,4],[5,6]])\n",
    "a = [g[i][1] for i in range(len(g))]\n",
    "\n",
    "print(a)"
   ]
  },
  {
   "cell_type": "code",
   "execution_count": null,
   "metadata": {},
   "outputs": [],
   "source": []
  }
 ],
 "metadata": {
  "kernelspec": {
   "display_name": "Python 3",
   "language": "python",
   "name": "python3"
  },
  "language_info": {
   "codemirror_mode": {
    "name": "ipython",
    "version": 3
   },
   "file_extension": ".py",
   "mimetype": "text/x-python",
   "name": "python",
   "nbconvert_exporter": "python",
   "pygments_lexer": "ipython3",
   "version": "3.5.2"
  }
 },
 "nbformat": 4,
 "nbformat_minor": 2
}
