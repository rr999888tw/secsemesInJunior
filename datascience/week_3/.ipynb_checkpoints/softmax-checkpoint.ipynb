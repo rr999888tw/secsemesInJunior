{
 "cells": [
  {
   "cell_type": "markdown",
   "metadata": {},
   "source": [
    "# Softmax exercise"
   ]
  },
  {
   "cell_type": "code",
   "execution_count": 1,
   "metadata": {
    "scrolled": false
   },
   "outputs": [
    {
     "name": "stderr",
     "output_type": "stream",
     "text": [
      "Using TensorFlow backend.\n"
     ]
    }
   ],
   "source": [
    "%matplotlib inline\n",
    "import numpy as np\n",
    "from keras.datasets import mnist\n",
    "from sklearn.model_selection import StratifiedShuffleSplit\n",
    "import time\n",
    "from random import randrange\n",
    "from past.builtins import xrange\n",
    "import matplotlib.pyplot as plt\n",
    "plt.rcParams['image.interpolation'] = 'nearest'\n",
    "plt.rcParams['image.cmap'] = 'gray'"
   ]
  },
  {
   "cell_type": "code",
   "execution_count": 2,
   "metadata": {},
   "outputs": [
    {
     "name": "stdout",
     "output_type": "stream",
     "text": [
      "(60000, 28, 28)\n",
      "(60000,)\n",
      "(10000, 28, 28)\n",
      "(10000,)\n",
      "[0 1 2 3 4 5 6 7 8 9]\n",
      "[5923 6742 5958 6131 5842 5421 5918 6265 5851 5949]\n"
     ]
    },
    {
     "data": {
      "image/png": "[encoded data removed]",
      "text/plain": [
       "<Figure size 432x288 with 9 Axes>"
      ]
     },
     "metadata": {},
     "output_type": "display_data"
    }
   ],
   "source": [
    "nb_classes = 10\n",
    "(X_train, y_train), (X_test, y_test) = mnist.load_data()\n",
    "\n",
    "#############################################################################\n",
    "# TODO: Print the shape of the training data and testing data               #\n",
    "# Plot the previous 9 training data and title their class                   #\n",
    "# Count the number of data for each class in training data                  #\n",
    "#############################################################################\n",
    "\n",
    "print(X_train.shape)\n",
    "print(y_train.shape)\n",
    "print(X_test.shape)\n",
    "print(y_test.shape)\n",
    "\n",
    "ar1,ar2 = np.unique(y_train, return_counts=True)\n",
    "print(ar1)\n",
    "print(ar2)\n",
    "fig, axar =plt.subplots(3,3)\n",
    "plt.tight_layout()\n",
    "\n",
    "for i in range(0,9):\n",
    "    axar[int(i/3),i%3].set_title(str(y_train[i]))\n",
    "    axar[int(i/3),i%3].imshow(X_train[i])\n",
    "    \n",
    "#############################################################################\n",
    "#                          END OF YOUR CODE                                 #\n",
    "#############################################################################\n",
    "\n"
   ]
  },
  {
   "cell_type": "code",
   "execution_count": 3,
   "metadata": {},
   "outputs": [
    {
     "name": "stdout",
     "output_type": "stream",
     "text": [
      "Train data shape: (6742, 785)\n",
      "Train label shape: (6742,)\n",
      "Validation data shape: (6742, 785)\n",
      "Validation label shape: (6742,)\n",
      "Test data shape: (2270, 785)\n",
      "Test label shape: (2270,)\n",
      "766.9255566398044\n",
      "10612.494146052566\n"
     ]
    }
   ],
   "source": [
    "# data prepration for binary classification\n",
    "not_n = 1\n",
    "def get_mnist_data(X_train, y_train, X_test, y_test):\n",
    "    # normalization\n",
    "    X_train = X_train.reshape((X_train.shape[0], -1)) / 255.\n",
    "    X_test = X_test.reshape((X_test.shape[0], -1)) / 255.\n",
    "    \n",
    "    # binarize\n",
    "    y_train[y_train != not_n] = 0\n",
    "    y_train[y_train == not_n] = 1\n",
    "    y_test[y_test != not_n] = 0\n",
    "    y_test[y_test == not_n] = 1\n",
    "    \n",
    "    X = np.array(X_train)\n",
    "    y = np.array(y_train)\n",
    "    \n",
    "    # split train and validation\n",
    "    sss = StratifiedShuffleSplit(n_splits = 10, test_size = 0.5, random_state = 0)\n",
    "    for train_idx, val_idx in sss.split(X_train, y_train):\n",
    "        X_train, X_val = X[train_idx], X[val_idx]\n",
    "        y_train, y_val = y[train_idx], y[val_idx]\n",
    "    \n",
    "    # add bias dimension and transform into columns\n",
    "    X_train = np.hstack([X_train, np.ones((X_train.shape[0], 1))])\n",
    "    X_val = np.hstack([X_val, np.ones((X_val.shape[0], 1))])\n",
    "    X_test = np.hstack([X_test, np.ones((X_test.shape[0], 1))])\n",
    "    \n",
    "    X_train, y_train = subsampling(X_train, y_train)\n",
    "    X_val, y_val = subsampling(X_val, y_val)\n",
    "    X_test, y_test = subsampling(X_test, y_test)\n",
    "    \n",
    "    return X_train, y_train, X_val, y_val , X_test, y_test\n",
    "\n",
    "def subsampling(X, y):\n",
    "    unique, count = np.unique(y, return_counts = True)\n",
    "    n_sampling = count[np.argmin(count)]\n",
    "    \n",
    "    idx_list = []\n",
    "    for i in range(len(unique)):\n",
    "        if count[i] <= n_sampling:\n",
    "            idx_list.append(np.where(y == unique[i])[0])\n",
    "            continue\n",
    "        idx = np.where(y == unique[i])[0]\n",
    "        idx = np.random.choice(idx, n_sampling, replace = False)\n",
    "        idx_list.append(idx)\n",
    "    \n",
    "    all_idx = np.sort(np.concatenate(idx_list))\n",
    "    X_sub = X[all_idx]\n",
    "    y_sub = y[all_idx]\n",
    "    \n",
    "    return X_sub, y_sub\n",
    "\n",
    "# Invoke the above function to get our data\n",
    "X_train, y_train, X_val, y_val, X_test, y_test = get_mnist_data(X_train, y_train, X_test, y_test)\n",
    "print('Train data shape: {}'.format(X_train.shape))\n",
    "print('Train label shape: {}'.format(y_train.shape))\n",
    "print('Validation data shape: {}'.format(X_val.shape))\n",
    "print('Validation label shape: {}'.format(y_val.shape))\n",
    "print('Test data shape: {}'.format(X_test.shape))\n",
    "print('Test label shape: {}'.format(y_test.shape))\n",
    "# print((X_train == X_val))\n",
    "print(np.linalg.norm(X_train-X_val))\n",
    "print(np.linalg.norm(y_train-y_val))"
   ]
  },
  {
   "cell_type": "markdown",
   "metadata": {},
   "source": [
    "## Softmax"
   ]
  },
  {
   "cell_type": "code",
   "execution_count": 4,
   "metadata": {},
   "outputs": [],
   "source": [
    "# First implement the naive softmax loss function with nested loops\n",
    "def softmax_loss_naive(W, X, y, reg):\n",
    "  \"\"\"\n",
    "  Softmax loss function, naive implementation (with loops)\n",
    "\n",
    "  Inputs have dimension D, there are C classes, and we operate on minibatches\n",
    "  of N examples.\n",
    "\n",
    "  Inputs:\n",
    "  - W: A numpy array of shape (D, C) containing weights.\n",
    "  - X: A numpy array of shape (N, D) containing a minibatch of data.\n",
    "  - y: A numpy array of shape (N,) containing training labels; y[i] = c means\n",
    "    that X[i] has label c, where 0 <= c < C.\n",
    "  - reg: (float) regularization strength\n",
    "\n",
    "  Returns a tuple of:\n",
    "  - loss as single float\n",
    "  - gradient with respect to weights W; an array of same shape as W\n",
    "  \"\"\"\n",
    "  # Initialize the loss and gradient to zero.\n",
    "  loss = 0.0\n",
    "  dW = np.zeros_like(W)\n",
    "  \n",
    "  #############################################################################\n",
    "  # TODO: Compute the softmax loss and its gradient using explicit loops.     #\n",
    "  # Store the loss in loss and the gradient in dW. If you are not careful     #\n",
    "  # here, it is easy to run into numeric instability. Don't forget the        #\n",
    "  # regularization!                                                           #\n",
    "  #############################################################################\n",
    "  #   pass\n",
    "\n",
    "  N = X.shape[0]\n",
    "  D = X.shape[1]\n",
    "  C = W.shape[1]\n",
    "  data_loss = 0.0\n",
    "  \n",
    "  prob = np.zeros((N,C))\n",
    "  for i in range(N):\n",
    "    score = np.zeros((C))\n",
    "    for j in range(C):\n",
    "      score[j] = np.sum(X[i] * W[:,j])\n",
    "    prob[i] = np.exp(score) / np.sum(np.exp(score))\n",
    "\n",
    "\n",
    "  correct_logprobs = - np.log(prob[range(N), y]) #range(N)\n",
    "  data_loss += np.sum(correct_logprobs) / N\n",
    "  reg_loss = 0.5 * reg * np.sum(W * W)\n",
    "  loss = data_loss + reg_loss\n",
    "  dscores = prob\n",
    "  dscores[range(N), y] -= 1\n",
    "  dscores /= N\n",
    "  dW = np.dot(X.T, dscores)\n",
    "  dW[:, :-1] += reg * W[:, :-1]\n",
    "\n",
    "    \n",
    "  #############################################################################\n",
    "  #                          END OF YOUR CODE                                 #\n",
    "  #############################################################################\n",
    "\n",
    "  return loss, dW"
   ]
  },
  {
   "cell_type": "code",
   "execution_count": 5,
   "metadata": {},
   "outputs": [
    {
     "name": "stdout",
     "output_type": "stream",
     "text": [
      "[[0. 0. 0. ... 0. 0. 1.]\n",
      " [0. 0. 0. ... 0. 0. 1.]\n",
      " [0. 0. 0. ... 0. 0. 1.]\n",
      " ...\n",
      " [0. 0. 0. ... 0. 0. 1.]\n",
      " [0. 0. 0. ... 0. 0. 1.]\n",
      " [0. 0. 0. ... 0. 0. 1.]]\n",
      "[1 0 1 ... 1 0 0]\n",
      "(6742, 785)\n",
      "(6742,)\n",
      "loss: 2.302396\n",
      "sanity check: 2.302585\n"
     ]
    }
   ],
   "source": [
    "# Generate a random softmax weight matrix and use it to compute the loss.\n",
    "W = np.random.randn(785, 10) * 0.0001\n",
    "loss, grad = softmax_loss_naive(W, X_train, y_train, 0.0)\n",
    "\n",
    "print(X_train)\n",
    "print(y_train)\n",
    "print(np.shape(X_train))\n",
    "print(np.shape(y_train))\n",
    "# As a rough sanity check, our loss should be something close to -log(0.1).\n",
    "print('loss: %f' % loss)\n",
    "print('sanity check: %f' % (-np.log(0.1)))"
   ]
  },
  {
   "cell_type": "markdown",
   "metadata": {},
   "source": [
    "## Inline Question 1:\n",
    "Why do we expect our loss to be close to -log(0.1)? Explain briefly.**\n",
    "\n",
    "**Your answer:** \n",
    "\n",
    "Because W is a random matrix,\n",
    "\n",
    "so basically it's an untrained machine.\n",
    "\n",
    "loss of each data = -log(X1)\n",
    "\n",
    "where X1 is a random variable with a certain distribution\n",
    "\n",
    "so the average loss ~= the expected value of (-log(X1))\n",
    "\n",
    "ie, loss ~= E[-logX1]\n",
    "\n",
    "E[X1] = 0.1, E[-logX1] ~= -log(0.1)\n",
    "\n",
    "therefore loss ~= -log(0.1)"
   ]
  },
  {
   "cell_type": "code",
   "execution_count": 6,
   "metadata": {
    "scrolled": true
   },
   "outputs": [
    {
     "name": "stdout",
     "output_type": "stream",
     "text": [
      "numerical: 0.000163 analytic: 0.000163, relative error: 7.320113e-08\n",
      "numerical: 0.024895 analytic: 0.024895, relative error: 1.275600e-11\n",
      "numerical: 0.032594 analytic: 0.032594, relative error: 6.383013e-11\n",
      "numerical: 0.031224 analytic: 0.031224, relative error: 2.195435e-10\n",
      "numerical: 0.000000 analytic: 0.000000, relative error: 0.000000e+00\n",
      "numerical: 0.011698 analytic: 0.011698, relative error: 8.058695e-10\n",
      "numerical: 0.000481 analytic: 0.000481, relative error: 1.823120e-08\n",
      "numerical: 0.000005 analytic: 0.000005, relative error: 6.225653e-09\n",
      "numerical: 0.033682 analytic: 0.033682, relative error: 1.557512e-10\n",
      "numerical: -0.000193 analytic: -0.000193, relative error: 6.302351e-09\n",
      "numerical: 0.002491 analytic: 0.002491, relative error: 3.772337e-09\n",
      "numerical: 0.006798 analytic: 0.006798, relative error: 1.319851e-10\n",
      "numerical: 0.035886 analytic: 0.035886, relative error: 4.097424e-10\n",
      "numerical: -0.002892 analytic: -0.002892, relative error: 2.088672e-09\n",
      "numerical: 0.009293 analytic: 0.009293, relative error: 4.006540e-10\n",
      "numerical: 0.017672 analytic: 0.017672, relative error: 4.070701e-10\n",
      "numerical: 0.024737 analytic: 0.024737, relative error: 3.825945e-10\n",
      "numerical: 0.016099 analytic: 0.010997, relative error: 1.883095e-01\n",
      "numerical: 0.002550 analytic: 0.002550, relative error: 6.485377e-10\n",
      "numerical: -0.009427 analytic: 0.000077, relative error: 9.999989e-01\n"
     ]
    }
   ],
   "source": [
    "# Use numeric gradient checking as a debugging tool.\n",
    "# The numeric gradient should be close to the analytic gradient.\n",
    "def grad_check_sparse(f, x, analytic_grad, num_checks=10, h=1e-5):\n",
    "  \"\"\"\n",
    "  sample a few random elements and only return numerical\n",
    "  in this dimensions.\n",
    "  \"\"\"\n",
    "\n",
    "  for i in xrange(num_checks):\n",
    "    ix = tuple([randrange(m) for m in x.shape])\n",
    "\n",
    "    oldval = x[ix]\n",
    "    x[ix] = oldval + h # increment by h\n",
    "    fxph = f(x) # evaluate f(x + h)\n",
    "    x[ix] = oldval - h # increment by h\n",
    "    fxmh = f(x) # evaluate f(x - h)\n",
    "    x[ix] = oldval # reset\n",
    "\n",
    "    grad_numerical = (fxph - fxmh) / (2 * h)\n",
    "    grad_analytic = analytic_grad[ix]\n",
    "    rel_error = abs(grad_numerical - grad_analytic) / (abs(grad_numerical) + abs(grad_analytic) + 10 ** -8)\n",
    "    print('numerical: %f analytic: %f, relative error: %e' % (grad_numerical, grad_analytic, rel_error))\n",
    "\n",
    "\n",
    "f = lambda w: softmax_loss_naive(w, X_train, y_train, 0.0)[0]\n",
    "grad_numerical = grad_check_sparse(f, W, grad, 10)\n",
    "\n",
    "# Do another gradient check with regularization\n",
    "loss, grad = softmax_loss_naive(W, X_train, y_train, 5e1)\n",
    "f = lambda w: softmax_loss_naive(w, X_train, y_train, 5e1)[0]\n",
    "grad_numerical = grad_check_sparse(f, W, grad, 10)"
   ]
  },
  {
   "cell_type": "code",
   "execution_count": 7,
   "metadata": {},
   "outputs": [
    {
     "name": "stdout",
     "output_type": "stream",
     "text": [
      "naive loss: 2.302396e+00 computed in 0.759397s\n"
     ]
    }
   ],
   "source": [
    "# Now that we have a naive implementation of the softmax loss function and its gradient,\n",
    "# implement a vectorized version in softmax_loss_vectorized.\n",
    "# The two versions should compute the same results, but the vectorized version should be\n",
    "# much faster.\n",
    "tic = time.time()\n",
    "loss_naive, grad_naive = softmax_loss_naive(W, X_train, y_train, 0.000005)\n",
    "toc = time.time()\n",
    "print('naive loss: %e computed in %fs' % (loss_naive, toc - tic))"
   ]
  },
  {
   "cell_type": "code",
   "execution_count": 8,
   "metadata": {},
   "outputs": [],
   "source": [
    "def softmax_loss_vectorized(W, X, y, reg):\n",
    "  \"\"\"\n",
    "  Softmax loss function, vectorized version.\n",
    "\n",
    "  Inputs and outputs are the same as softmax_loss_naive.\n",
    "  \n",
    "  Inputs:\n",
    "  - W: A numpy array of shape (D, C) containing weights.\n",
    "  - X: A numpy array of shape (N, D) containing a minibatch of data.\n",
    "  - y: A numpy array of shape (N,) containing training labels; y[i] = c means\n",
    "    that X[i] has label c, where 0 <= c < C.\n",
    "  - reg: (float) regularization strength\n",
    "\n",
    "  Returns a tuple of:\n",
    "  - loss as single float\n",
    "  - gradient with respect to weights W; an array of same shape as W\n",
    "\n",
    "  \"\"\"\n",
    "  # Initialize the loss and gradient to zero.\n",
    "  loss = 0.0\n",
    "  dW = np.zeros_like(W)\n",
    "\n",
    "  #############################################################################\n",
    "  # TODO: Compute the softmax loss and its gradient using no explicit loops.  #\n",
    "  # Store the loss in loss and the gradient in dW. If you are not careful     #\n",
    "  # here, it is easy to run into numeric instability. Don't forget the        #\n",
    "  # regularization!                                                           #\n",
    "  #############################################################################\n",
    "  N = X.shape[0]\n",
    "  D = X.shape[1]\n",
    "  C = W.shape[1]\n",
    "  data_loss = 0.0\n",
    "  scores = np.dot(X, W)\n",
    "  exp_scores = np.exp(scores)\n",
    "  probs = exp_scores / np.sum(exp_scores, axis = 1, keepdims = True) # keepdims: broadcast\n",
    "  correct_logprobs = - np.log(probs[range(N), y]) #range(N)\n",
    "  data_loss += np.sum(correct_logprobs) / N\n",
    "  reg_loss = 0.5 * reg * np.sum(W * W)\n",
    "  loss = data_loss + reg_loss\n",
    "  dscores = probs\n",
    "  dscores[range(N), y] -= 1\n",
    "  dscores /= N\n",
    "  dW = np.dot(X.T, dscores)\n",
    "  dW[:, :-1] += reg * W[:, :-1]\n",
    "  #############################################################################\n",
    "  #                          END OF YOUR CODE                                 #\n",
    "  #############################################################################\n",
    "\n",
    "  return loss, dW"
   ]
  },
  {
   "cell_type": "code",
   "execution_count": 9,
   "metadata": {},
   "outputs": [
    {
     "name": "stdout",
     "output_type": "stream",
     "text": [
      "vectorized loss: 2.302396e+00 computed in 0.055343s\n",
      "Loss difference: 0.000000\n",
      "Gradient difference: 0.000000\n"
     ]
    }
   ],
   "source": [
    "tic = time.time()\n",
    "loss_vectorized, grad_vectorized = softmax_loss_vectorized(W, X_train, y_train, 0.000005)\n",
    "toc = time.time()\n",
    "print('vectorized loss: %e computed in %fs' % (loss_vectorized, toc - tic))\n",
    "\n",
    "# We use the Frobenius norm to compare the two versions\n",
    "# of the gradient.\n",
    "\n",
    "grad_difference = np.linalg.norm(grad_naive - grad_vectorized, ord = 'fro')\n",
    "print('Loss difference: %f' % np.abs(loss_naive - loss_vectorized))\n",
    "print('Gradient difference: %f' % grad_difference)"
   ]
  },
  {
   "cell_type": "code",
   "execution_count": 10,
   "metadata": {},
   "outputs": [],
   "source": [
    "class LinearClassifier(object):\n",
    "\n",
    "  def __init__(self):\n",
    "    self.W = None\n",
    "\n",
    "  def train(self, X, y, learning_rate=1e-3, reg=1e-5, num_iters=100,\n",
    "            batch_size=200, verbose=False):\n",
    "    \"\"\"\n",
    "    Train this linear classifier using stochastic gradient descent.\n",
    "\n",
    "    Inputs:\n",
    "    - X: A numpy array of shape (N, D) containing training data; there are N\n",
    "      training samples each of dimension D.\n",
    "    - y: A numpy array of shape (N,) containing training labels; y[i] = c\n",
    "      means that X[i] has label 0 <= c < C for C classes.\n",
    "    - learning_rate: (float) learning rate for optimization.\n",
    "    - reg: (float) regularization strength.\n",
    "    - num_iters: (integer) number of steps to take when optimizing\n",
    "    - batch_size: (integer) number of training examples to use at each step.\n",
    "    - verbose: (boolean) If true, print progress during optimization.\n",
    "\n",
    "    Outputs:\n",
    "    A list containing the value of the loss function at each training iteration.\n",
    "    \"\"\"\n",
    "    num_train, dim = X.shape\n",
    "    num_classes = np.max(y) + 1 # assume y takes values 0...K-1 where K is number of classes\n",
    "    if self.W is None:\n",
    "      # lazily initialize W\n",
    "      self.W = 0.001 * np.random.randn(dim, num_classes)\n",
    "\n",
    "    # Run stochastic gradient descent to optimize W\n",
    "    loss_history = []\n",
    "    for it in xrange(num_iters):\n",
    "      X_batch = None\n",
    "      y_batch = None\n",
    "\n",
    "      #########################################################################\n",
    "      # TODO:                                                                 #\n",
    "      # Sample batch_size elements from the training data and their           #\n",
    "      # corresponding labels to use in this round of gradient descent.        #\n",
    "      # Store the data in X_batch and their corresponding labels in           #\n",
    "      # y_batch; after sampling X_batch should have shape (dim, batch_size)   #\n",
    "      # and y_batch should have shape (batch_size,)                           #\n",
    "      #                                                                       #\n",
    "      # Hint: Use np.random.choice to generate indices. Sampling with         #\n",
    "      # replacement is faster than sampling without replacement.              #\n",
    "      #########################################################################\n",
    "      X_batch = np.zeros((batch_size,dim))\n",
    "      y_batch = np.empty((batch_size,),dtype=int)\n",
    "      idx = np.random.choice(range(num_train),batch_size, replace = False)\n",
    "      X_batch[range(batch_size)] = X[idx]\n",
    "      y_batch[range(batch_size)] = y[idx]\n",
    "                  \n",
    "      #########################################################################\n",
    "      #                       END OF YOUR CODE                                #\n",
    "      #########################################################################\n",
    "\n",
    "      # evaluate loss and gradient\n",
    "      loss, grad = self.loss(X_batch, y_batch, reg)\n",
    "      loss_history.append(loss)\n",
    "\n",
    "      # perform parameter update\n",
    "      #########################################################################\n",
    "      # TODO:                                                                 #\n",
    "      # Update the weights using the gradient and the learning rate.          #\n",
    "      #########################################################################\n",
    "      self.W += - learning_rate * grad\n",
    "      #########################################################################\n",
    "      #                       END OF YOUR CODE                                #\n",
    "      #########################################################################\n",
    "\n",
    "      if verbose and it % 100 == 0:\n",
    "        print('iteration %d / %d: loss %f' % (it, num_iters, loss))\n",
    "\n",
    "    return loss_history\n",
    "\n",
    "  def predict(self, X):\n",
    "    \"\"\"\n",
    "    Use the trained weights of this linear classifier to predict labels for\n",
    "    data points.\n",
    "\n",
    "    Inputs:\n",
    "    - X: A numpy array of shape (N, D) containing training data; there are N\n",
    "      training samples each of dimension D.\n",
    "\n",
    "    Returns:\n",
    "    - y_pred: Predicted labels for the data in X. y_pred is a 1-dimensional\n",
    "      array of length N, and each element is an integer giving the predicted\n",
    "      class.\n",
    "    \"\"\"\n",
    "    y_pred = np.zeros(X.shape[0])\n",
    "    ###########################################################################\n",
    "    # TODO:                                                                   #\n",
    "    # Implement this method. Store the predicted labels in y_pred.            #\n",
    "    ###########################################################################\n",
    "    scores = np.dot(X, self.W)\n",
    "    N = scores.shape[0]\n",
    "    \n",
    "    y_pred = np.argmax(scores,axis = 1)\n",
    "\n",
    "    ###########################################################################\n",
    "    #                           END OF YOUR CODE                              #\n",
    "    ###########################################################################\n",
    "    return y_pred\n",
    "  \n",
    "  def loss(self, X_batch, y_batch, reg):\n",
    "    \"\"\"\n",
    "    Compute the loss function and its derivative. \n",
    "    Subclasses will override this.\n",
    "\n",
    "    Inputs:\n",
    "    - X_batch: A numpy array of shape (N, D) containing a minibatch of N\n",
    "      data points; each point has dimension D.\n",
    "    - y_batch: A numpy array of shape (N,) containing labels for the minibatch.\n",
    "    - reg: (float) regularization strength.\n",
    "\n",
    "    Returns: A tuple containing:\n",
    "    - loss as a single float\n",
    "    - gradient with respect to self.W; an array of the same shape as W\n",
    "    \"\"\"\n",
    "    pass\n",
    "\n",
    "class Softmax(LinearClassifier):\n",
    "  \"\"\" A subclass that uses the Softmax + Cross-entropy loss function \"\"\"\n",
    "\n",
    "  def loss(self, X_batch, y_batch, reg):\n",
    "    return softmax_loss_vectorized(self.W, X_batch, y_batch, reg)"
   ]
  },
  {
   "cell_type": "code",
   "execution_count": 17,
   "metadata": {},
   "outputs": [
    {
     "name": "stdout",
     "output_type": "stream",
     "text": [
      "51.07837115648854\n",
      "62.44197306299666\n",
      "21.37755832643195\n",
      "29.393876913398138\n",
      "best validation accuracy achieved during cross-validation: -1.000000\n"
     ]
    }
   ],
   "source": [
    "# Use the validation set to tune hyperparameters (regularization strength and\n",
    "# learning rate). You should experiment with different ranges for the learning\n",
    "# rates and regularization strengths; if you are careful you should be able to\n",
    "# get a classification accuracy of over 0.6 on the validation set.\n",
    "results = {}\n",
    "best_val = -1\n",
    "best_softmax = None\n",
    "learning_rates = [1e-6, 5e-6]\n",
    "regularization_strengths = [2.5e4, 5e4]\n",
    "\n",
    "################################################################################\n",
    "# TODO:                                                                        #\n",
    "# Use the validation set to set the learning rate and regularization strength. #\n",
    "# save the best trained softmax classifer in best_softmax.                     #\n",
    "# print((X_train))\n",
    "# print((y_train))\n",
    "# print((y_train[0]))\n",
    "\n",
    "best_W = None\n",
    "best_score = None\n",
    "\n",
    "for lr in learning_rates:\n",
    "  for rs in regularization_strengths:\n",
    "    clf = Softmax()\n",
    "    clf.train(X_train, y_train, learning_rate = lr, reg = rs,num_iters = 1000)\n",
    "    y_pred = clf.predict(X_val)\n",
    "    score = np.linalg.norm(y_pred - y_val)\n",
    "    print(score)\n",
    "    if(best_score == None):\n",
    "      best_score = score\n",
    "      best_W = clf.W\n",
    "    if(score < best_score):\n",
    "      best_score = score\n",
    "      best_W = clf.W\n",
    "    \n",
    "best_softmax = Softmax()\n",
    "best_softmax.W = best_W\n",
    "################################################################################\n",
    "#                              END OF YOUR CODE                                #\n",
    "################################################################################\n",
    "    \n",
    "# Print out results.\n",
    "for lr, reg in sorted(results):\n",
    "    train_accuracy, val_accuracy = results[(lr, reg)]\n",
    "    print('lr %e reg %e train accuracy: %f val accuracy: %f' % (\n",
    "                lr, reg, train_accuracy, val_accuracy))\n",
    "    \n",
    "print('best validation accuracy achieved during cross-validation: %f' % best_val)"
   ]
  },
  {
   "cell_type": "code",
   "execution_count": 18,
   "metadata": {
    "scrolled": true
   },
   "outputs": [
    {
     "name": "stdout",
     "output_type": "stream",
     "text": [
      "softmax on raw pixels final test set accuracy: 0.937885\n"
     ]
    }
   ],
   "source": [
    "# evaluate the best softmax on test set\n",
    "y_test_pred = best_softmax.predict(X_test)\n",
    "test_accuracy = np.mean(y_test == y_test_pred)\n",
    "print('softmax on raw pixels final test set accuracy: %f' % (test_accuracy, ))"
   ]
  },
  {
   "cell_type": "code",
   "execution_count": 19,
   "metadata": {},
   "outputs": [
    {
     "name": "stdout",
     "output_type": "stream",
     "text": [
      "-0.003914001162354206\n",
      "0.002781695822870308\n"
     ]
    },
    {
     "data": {
      "image/png": "[encoded data removed]",
      "text/plain": [
       "<Figure size 432x288 with 2 Axes>"
      ]
     },
     "metadata": {},
     "output_type": "display_data"
    }
   ],
   "source": [
    "# Visualize the learned weights for each class\n",
    "w = best_softmax.W[:-1,:] # strip out the bias\n",
    "# print(w)\n",
    "w = w.reshape(28, 28, 2)\n",
    "# print(w)\n",
    "\n",
    "w_min, w_max = np.min(w), np.max(w)\n",
    "print(w_min)\n",
    "print(w_max)\n",
    "\n",
    "\n",
    "classes = ['not {}'.format(not_n), '{}'.format(not_n)]\n",
    "for i in range(2):\n",
    "    plt.subplot(1, 2, i + 1)\n",
    "    \n",
    "    # Rescale the weights to be between 0 and 255\n",
    "    wimg = 255.0 * (w[:, :, i].squeeze()- w_min) / (w_max - w_min)\n",
    "    plt.imshow(wimg.astype('uint8'))\n",
    "    plt.axis('off')\n",
    "    plt.title(classes[i])\n",
    "    \n",
    "    "
   ]
  },
  {
   "cell_type": "code",
   "execution_count": 38,
   "metadata": {},
   "outputs": [
    {
     "name": "stdout",
     "output_type": "stream",
     "text": [
      "(784, 2)\n",
      "[[-6.59000548e-63 -1.40371442e-03]\n",
      " [-2.05102793e-62  2.52092423e-04]\n",
      " [ 6.09983890e-62  8.47002719e-04]\n",
      " ...\n",
      " [ 1.94007690e-62 -1.72230123e-05]\n",
      " [ 5.17636779e-62 -1.07464595e-03]\n",
      " [ 2.70585065e-62  4.73908303e-04]]\n",
      "sa\n"
     ]
    }
   ],
   "source": [
    "wFile = open('best_W.txt','w')\n",
    "w_write = best_softmax.W[:-1,:]\n",
    "print(w_write.shape)\n",
    "print(w_write)\n",
    "\n",
    "for row in range(w_write.shape[0]):\n",
    "  for col in range(w_write.shape[1]):\n",
    "    wFile.write(str(w_write[row][col])) \n",
    "    if(col < w_write.shape[1]-1): wFile.write(' ')\n",
    "  wFile.write('\\n')\n",
    "\n",
    "# print('sa')"
   ]
  },
  {
   "cell_type": "code",
   "execution_count": null,
   "metadata": {},
   "outputs": [],
   "source": []
  }
 ],
 "metadata": {
  "kernelspec": {
   "display_name": "Python 3",
   "language": "python",
   "name": "python3"
  },
  "language_info": {
   "codemirror_mode": {
    "name": "ipython",
    "version": 3
   },
   "file_extension": ".py",
   "mimetype": "text/x-python",
   "name": "python",
   "nbconvert_exporter": "python",
   "pygments_lexer": "ipython3",
   "version": "3.5.2"
  }
 },
 "nbformat": 4,
 "nbformat_minor": 2
}
