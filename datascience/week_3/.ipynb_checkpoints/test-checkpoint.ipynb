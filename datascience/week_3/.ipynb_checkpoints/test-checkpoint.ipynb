{
 "cells": [
  {
   "cell_type": "code",
   "execution_count": 54,
   "metadata": {},
   "outputs": [
    {
     "name": "stdout",
     "output_type": "stream",
     "text": [
      "[[ 9.10718899e-05  4.90270866e-05 -1.40749760e-05 ... -1.26401335e-06\n",
      "  -6.61684700e-06  2.05424254e-04]\n",
      " [-8.25945947e-05  1.40879254e-04  6.00728691e-05 ...  1.22455245e-04\n",
      "  -3.31762246e-05  6.29566583e-05]\n",
      " [ 1.37549364e-04  1.44578658e-04  1.37884353e-04 ... -4.31799732e-05\n",
      "  -1.31549443e-05  5.89528076e-05]\n",
      " ...\n",
      " [-7.50199306e-05 -5.58134494e-05 -1.32061071e-05 ...  1.45699958e-05\n",
      "   3.73109612e-05  1.28122186e-04]\n",
      " [ 3.82908347e-05  5.42250563e-05 -5.31005367e-05 ... -1.24251200e-04\n",
      "  -4.08310103e-05  6.54168970e-05]\n",
      " [ 9.32093598e-05 -1.81012041e-04  1.67608747e-04 ...  3.36713969e-06\n",
      "  -1.36439361e-04  9.50791722e-05]]\n"
     ]
    }
   ],
   "source": [
    "%matplotlib inline\n",
    "import numpy as np\n",
    "from keras.datasets import mnist\n",
    "from sklearn.model_selection import StratifiedShuffleSplit\n",
    "import time\n",
    "from random import randrange\n",
    "from past.builtins import xrange\n",
    "import matplotlib.pyplot as plt\n",
    "plt.rcParams['image.interpolation'] = 'nearest'\n",
    "plt.rcParams['image.cmap'] = 'gray'W = np.random.randn(785, 10) * 0.0001\n"
   ]
  },
  {
   "cell_type": "code",
   "execution_count": 67,
   "metadata": {},
   "outputs": [],
   "source": [
    "f = lambda :[10, 100]"
   ]
  },
  {
   "cell_type": "code",
   "execution_count": 68,
   "metadata": {},
   "outputs": [
    {
     "name": "stdout",
     "output_type": "stream",
     "text": [
      "[10, 100]\n"
     ]
    }
   ],
   "source": [
    "a= f()\n",
    "print (a)\n",
    "\n",
    "\n"
   ]
  },
  {
   "cell_type": "code",
   "execution_count": null,
   "metadata": {},
   "outputs": [],
   "source": []
  }
 ],
 "metadata": {
  "kernelspec": {
   "display_name": "Python 3",
   "language": "python",
   "name": "python3"
  },
  "language_info": {
   "codemirror_mode": {
    "name": "ipython",
    "version": 3
   },
   "file_extension": ".py",
   "mimetype": "text/x-python",
   "name": "python",
   "nbconvert_exporter": "python",
   "pygments_lexer": "ipython3",
   "version": "3.5.2"
  }
 },
 "nbformat": 4,
 "nbformat_minor": 2
}
