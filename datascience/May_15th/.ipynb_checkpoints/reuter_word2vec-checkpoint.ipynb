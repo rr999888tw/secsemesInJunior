{
 "cells": [
  {
   "cell_type": "markdown",
   "metadata": {},
   "source": [
    "# Wikipedia2014 + Gigaword5 and GloVe\n",
    "ref: https://nlp.stanford.edu/projects/glove/"
   ]
  },
  {
   "cell_type": "code",
   "execution_count": 7,
   "metadata": {},
   "outputs": [],
   "source": [
    "import os\n",
    "import numpy as np\n",
    "import matplotlib.pyplot as plt\n",
    "\n",
    "import tensorflow as tf\n",
    "config = tf.ConfigProto()\n",
    "config.gpu_options.allow_growth = True\n",
    "tf.Session(config = config)\n",
    "\n",
    "from keras.datasets import reuters\n",
    "from keras.utils.np_utils import to_categorical\n",
    "from keras.models import Model\n",
    "from keras.layers import Embedding, Input, Conv1D, MaxPooling1D, LSTM, Flatten, Dense, Dropout, Reshape, Bidirectional, Conv2D, MaxPool2D, Concatenate, Activation\n",
    "from keras.preprocessing.sequence import pad_sequences\n",
    "\n",
    "MAX_NB_WORDS = 10000\n",
    "MAX_SEQUENCE_LENGTH = 300\n",
    "VALIDATION_SPLIT = 0.3\n",
    "#############################################################################\n",
    "# TODO: this should be the same as the dimension of word embedding you are  #\n",
    "# using                                                                     #\n",
    "#############################################################################\n",
    "EMBEDDING_DIM = 50\n",
    "#############################################################################\n",
    "#                          END OF YOUR CODE                                 #\n",
    "#############################################################################\n",
    "\n",
    "\n",
    "from gensim.test.utils import datapath, get_tmpfile\n",
    "from gensim.models import KeyedVectors\n",
    "from gensim.scripts.glove2word2vec import glove2word2vec\n",
    "\n",
    "from sklearn.decomposition import PCA"
   ]
  },
  {
   "cell_type": "code",
   "execution_count": 10,
   "metadata": {},
   "outputs": [],
   "source": [
    "#############################################################################\n",
    "# TODO: please assign the absolute path to the GloVe txt file               #\n",
    "# (glove.6B.50d.txt or any dimension you like)                              #\n",
    "#############################################################################\n",
    "path_to_glove = '/home/robinlin/Desktop/secsemesInJunior/datascience/May_15th/glove.6B/glove.6B.50d.txt'\n",
    "#############################################################################\n",
    "#                          END OF YOUR CODE                                 #\n",
    "#############################################################################\n",
    "tmp_file_name = 'word2vec.6B.txt'\n",
    "\n",
    "glove_file = datapath(path_to_glove)\n",
    "tmp_file = get_tmpfile(tmp_file_name)\n",
    "\n",
    "glove2word2vec(glove_file, tmp_file)\n",
    "model = KeyedVectors.load_word2vec_format(tmp_file)"
   ]
  },
  {
   "cell_type": "markdown",
   "metadata": {},
   "source": [
    "Print the type the word vector of 'animal', the dimension (shape) of this vector, and the content of thie vector.\n",
    "\n",
    "If you use 300 dimensions word vectors, the correct outout will be something like this:\n",
    "```\n",
    "(numpy.ndarray,\n",
    " (300,),\n",
    " array([ 0.25653  ,  0.66592  , -0.5313   ,  0.20342  ,  0.40049  ,\n",
    " ... multiple lines are omitted ...\n",
    "        -0.14921  ,  0.2404   ,  0.22182  ,  0.68883  , -0.018991 ],\n",
    "       dtype=float32))\n",
    "```"
   ]
  },
  {
   "cell_type": "code",
   "execution_count": 19,
   "metadata": {},
   "outputs": [
    {
     "name": "stdout",
     "output_type": "stream",
     "text": [
      "<class 'numpy.ndarray'>\n",
      "[ 0.49652   -0.65143   -1.0869    -0.10205    0.81724    0.923\n",
      " -0.56206   -1.3801     1.8115     0.068438   0.63906    0.24468\n",
      "  1.0308     0.10202    0.48498   -0.08387    0.61688    0.35812\n",
      " -0.75196   -0.3548    -0.14173    0.042311   0.42242   -0.21013\n",
      "  0.28935   -1.1214    -0.5278    -0.046298   0.064643  -0.43924\n",
      "  2.4004    -0.29715   -0.19765   -0.88725   -0.62955    0.64092\n",
      "  0.14741   -0.0089431  0.39569    0.060899  -0.33917   -0.15897\n",
      "  0.22115    0.83813    1.6032    -0.010252  -0.36843   -0.32005\n",
      "  0.4658    -0.10813  ]\n",
      "(50,)\n"
     ]
    }
   ],
   "source": [
    "#############################################################################\n",
    "# TODO: please print the type the word vector of 'animal', the dimension    #\n",
    "# (shape) of this vector, and the content of thie vector.                   #\n",
    "#############################################################################\n",
    "print(type(model.get_vector('animal')))\n",
    "print(model.get_vector('animal'))\n",
    "print(model.get_vector('animal').shape)\n",
    "\n",
    "#############################################################################\n",
    "#                          END OF YOUR CODE                                 #\n",
    "#############################################################################"
   ]
  },
  {
   "cell_type": "markdown",
   "metadata": {},
   "source": [
    "Use [similar_by_vector](https://radimrehurek.com/gensim/models/keyedvectors.html#gensim.models.keyedvectors.FastTextKeyedVectors.similar_by_vector) to obtain the 10 most similar word to 'france'\n",
    "\n",
    "If you use 300 dimensions word vectors, the correct outout will be something like this:\n",
    "```\n",
    "[('france', 1.0),\n",
    " ('french', 0.7344760894775391),\n",
    " ('paris', 0.6580672264099121),\n",
    " ('belgium', 0.620672345161438),\n",
    " ('spain', 0.573593258857727),\n",
    " ('italy', 0.5643459558486938),\n",
    " ('germany', 0.5567397475242615),\n",
    " ('prohertrib', 0.5564222931861877),\n",
    " ('britain', 0.5553334951400757),\n",
    " ('chirac', 0.5362644195556641)]\n",
    "```"
   ]
  },
  {
   "cell_type": "code",
   "execution_count": 21,
   "metadata": {},
   "outputs": [
    {
     "data": {
      "text/plain": [
       "[('france', 0.9999999403953552),\n",
       " ('french', 0.8868120908737183),\n",
       " ('belgium', 0.8631513118743896),\n",
       " ('paris', 0.8025329113006592),\n",
       " ('spain', 0.7909148931503296),\n",
       " ('netherlands', 0.7893801331520081),\n",
       " ('italy', 0.7788637280464172),\n",
       " ('germany', 0.7744609117507935),\n",
       " ('european', 0.7626757025718689),\n",
       " ('switzerland', 0.757765531539917)]"
      ]
     },
     "execution_count": 21,
     "metadata": {},
     "output_type": "execute_result"
    }
   ],
   "source": [
    "#############################################################################\n",
    "# TODO: use similar_by_vector to obtain the 10 most similar word to 'france'#\n",
    "#############################################################################\n",
    "model.similar_by_vector(model.get_vector('france'))\n",
    "#############################################################################\n",
    "#                          END OF YOUR CODE                                 #\n",
    "#############################################################################"
   ]
  },
  {
   "cell_type": "markdown",
   "metadata": {},
   "source": [
    "Use [most_similar](https://radimrehurek.com/gensim/models/keyedvectors.html#gensim.models.keyedvectors.Word2VecKeyedVectors.most_similar) to obtain the result of 'woman' + 'king' - 'man'\n",
    "\n",
    "If you use 300 dimensions, the correct output will be somthing like this:\n",
    "```\n",
    "[('queen', 0.6713277101516724),\n",
    " ('princess', 0.5432624220848083),\n",
    " ('throne', 0.5386104583740234),\n",
    " ('monarch', 0.5347574949264526),\n",
    " ('daughter', 0.498025119304657),\n",
    " ('mother', 0.4956442713737488),\n",
    " ('elizabeth', 0.4832652509212494),\n",
    " ('kingdom', 0.47747087478637695),\n",
    " ('prince', 0.4668239951133728),\n",
    " ('wife', 0.4647327661514282)]\n",
    "```"
   ]
  },
  {
   "cell_type": "code",
   "execution_count": 22,
   "metadata": {},
   "outputs": [
    {
     "data": {
      "text/plain": [
       "[('queen', 0.8523603677749634),\n",
       " ('throne', 0.7664334177970886),\n",
       " ('prince', 0.759214460849762),\n",
       " ('daughter', 0.7473883032798767),\n",
       " ('elizabeth', 0.7460220456123352),\n",
       " ('princess', 0.7424569725990295),\n",
       " ('kingdom', 0.7337411642074585),\n",
       " ('monarch', 0.7214490175247192),\n",
       " ('eldest', 0.7184861898422241),\n",
       " ('widow', 0.7099430561065674)]"
      ]
     },
     "execution_count": 22,
     "metadata": {},
     "output_type": "execute_result"
    }
   ],
   "source": [
    "#############################################################################\n",
    "# TODO: use most_similar to obtain the result of 'woman' + 'king' - 'man'   #\n",
    "#############################################################################\n",
    "model.most_similar(positive=['woman', 'king'], negative=['man'])\n",
    "#############################################################################\n",
    "#                          END OF YOUR CODE                                 #\n",
    "#############################################################################"
   ]
  },
  {
   "cell_type": "markdown",
   "metadata": {},
   "source": [
    "Use [doesnt_match](https://radimrehurek.com/gensim/models/keyedvectors.html#gensim.models.keyedvectors.WordEmbeddingsKeyedVectors.doesnt_match) to obtain the word with the different meaning with the other words in a list 'breakfast', 'lunch', 'dinner', 'cereal'\n",
    "\n",
    "If you use 300 dimensions, the correct output will be something like this:\n",
    "```\n",
    "'cereal'\n",
    "```"
   ]
  },
  {
   "cell_type": "code",
   "execution_count": 24,
   "metadata": {},
   "outputs": [
    {
     "data": {
      "text/plain": [
       "'cereal'"
      ]
     },
     "execution_count": 24,
     "metadata": {},
     "output_type": "execute_result"
    }
   ],
   "source": [
    "#############################################################################\n",
    "# TODO: Use doesnt_match to obtain the word with the different meaning with #\n",
    "# the other words in a list 'breakfast', 'lunch', 'dinner', 'cereal'        #\n",
    "#############################################################################\n",
    "model.doesnt_match(\"breakfast cereal dinner lunch\".split())\n",
    "#############################################################################\n",
    "#                          END OF YOUR CODE                                 #\n",
    "#############################################################################"
   ]
  },
  {
   "cell_type": "code",
   "execution_count": 25,
   "metadata": {},
   "outputs": [
    {
     "data": {
      "image/png": "[encoded data removed]",
      "text/plain": [
       "<Figure size 432x288 with 1 Axes>"
      ]
     },
     "metadata": {},
     "output_type": "display_data"
    }
   ],
   "source": [
    "def pca_plot(model):\n",
    "    labels = []\n",
    "    tokens = []\n",
    "\n",
    "    for word in model.vocab:\n",
    "        tokens.append(model[word])\n",
    "        labels.append(word)\n",
    "    \n",
    "    tsne_model = PCA(n_components = 2)\n",
    "    new_values = tsne_model.fit_transform(tokens)\n",
    "\n",
    "    x = []\n",
    "    y = []\n",
    "    for value in new_values:\n",
    "        x.append(value[0])\n",
    "        y.append(value[1])\n",
    "        \n",
    "    for i in range(len(x)):\n",
    "        label = labels[i]\n",
    "        if label in ['king', 'queen', 'sister', 'brother', 'niece', 'nephew', 'aunt', 'uncle', 'woman', 'man', \n",
    "                     'madam', 'sir']:\n",
    "            plt.scatter(x[i],y[i])\n",
    "            plt.annotate(label,\n",
    "                         xy = (x[i], y[i]),\n",
    "                         xytext = (5, 2),\n",
    "                         textcoords = 'offset points',\n",
    "                         ha = 'right',\n",
    "                         va = 'bottom')\n",
    "    plt.show()\n",
    "\n",
    "pca_plot(model)"
   ]
  },
  {
   "cell_type": "markdown",
   "metadata": {},
   "source": [
    "# Reuter-21578 Data set with word2vec\n",
    "Last week, you have already worked on Reuters-21578 dataset for multi-class classification. This week, you are using word2vec to classify the same dataset.\n",
    "\n",
    "In this lab, you will have to implement 3 three neural network models using keras API:\n",
    "1. Mutilayer perceptron\n",
    "2. Conv1D\n",
    "3. LSTM or GRU"
   ]
  },
  {
   "cell_type": "code",
   "execution_count": 104,
   "metadata": {},
   "outputs": [
    {
     "name": "stdout",
     "output_type": "stream",
     "text": [
      "30982\n"
     ]
    }
   ],
   "source": [
    "# this requires download from the first time\n",
    "(X_train, y_train), (X_test, y_test) = reuters.load_data(num_words = MAX_NB_WORDS, \n",
    "                                                         skip_top = 0, \n",
    "                                                         maxlen = MAX_SEQUENCE_LENGTH,\n",
    "                                                         seed = 113,\n",
    "                                                         start_char = 1, \n",
    "                                                         oov_char = 2, \n",
    "                                                         index_from = 3)\n",
    "\n",
    "y_train = to_categorical(y_train)\n",
    "y_test = to_categorical(y_test)\n",
    "\n",
    "word2index = reuters.get_word_index()\n",
    "word2index = {key : (value + 3) for (key, value) in word2index.items()}\n",
    "word2index['<PAD>'] = 0\n",
    "word2index['<START>'] = 1\n",
    "word2index['<UNK>'] = 2\n",
    "print(len(word2index))"
   ]
  },
  {
   "cell_type": "code",
   "execution_count": 105,
   "metadata": {},
   "outputs": [],
   "source": [
    "############################################################################\n",
    "# TODO: create a embeddings_index to map word to word vector and print the  #\n",
    "# number of words in the embedding                                          #\n",
    "#############################################################################\n",
    "embeddings_index = dict()\n",
    "for (key, value) in word2index.items():\n",
    "    \n",
    "    try: \n",
    "        embeddings_index[key] = model.get_vector(key)\n",
    "    except: \n",
    "        embeddings_index[key] = np.zeros((EMBEDDING_DIM,))\n",
    "#         print('{} not in wordvectors'.format(key))\n",
    "\n",
    "#############################################################################\n",
    "#                          END OF YOUR CODE                                 #\n",
    "#############################################################################\n",
    "\n",
    "\n",
    "#############################################################################\n",
    "# TODO: create a embedding_matrix that map the index of word2index to word  #\n",
    "# vectors                                                                   #\n",
    "#############################################################################\n",
    "embedding_matrix = np.zeros((MAX_NB_WORDS, EMBEDDING_DIM))\n",
    "\n",
    "for (key, value) in word2index.items():\n",
    "    if (value < MAX_NB_WORDS):\n",
    "        embedding_matrix[value] = embeddings_index[key]\n",
    "    else:\n",
    "        continue\n",
    "#############################################################################\n",
    "#                          END OF YOUR CODE                                 #\n",
    "#############################################################################\n",
    "\n",
    "#############################################################################\n",
    "# TODO: define an embedding layer that initialize the weights with          #                                         \n",
    "# embedding_matrix and set trainable to False                               #\n",
    "#############################################################################\n",
    "pass\n",
    "#############################################################################\n",
    "#                          END OF YOUR CODE                                 #\n",
    "#############################################################################\n",
    "embedding_layer = Embedding(MAX_NB_WORDS,\n",
    "                            EMBEDDING_DIM,\n",
    "                            weights = [embedding_matrix],\n",
    "                            input_length = MAX_SEQUENCE_LENGTH,\n",
    "                            trainable = False)"
   ]
  },
  {
   "cell_type": "code",
   "execution_count": 106,
   "metadata": {},
   "outputs": [],
   "source": [
    "#############################################################################\n",
    "# TODO: Use keras pad_sequences to pad the sequence in X_train and X_test   #\n",
    "# to MAX_SEQUENCE_LENGTH                                                    #\n",
    "#############################################################################\n",
    "# print(X_train[0])\n",
    "# print(X_test[0])\n",
    "# X_train_shape = X_train.shape\n",
    "# X_test_shape = X_test.shape\n",
    "# print(X_train_shape)\n",
    "# print(X_test_shape)\n",
    "# X_train2 = np.zeros((len(X_train)))\n",
    "X_train = pad_sequences(X_train, maxlen = MAX_SEQUENCE_LENGTH, padding='post')\n",
    "X_test = pad_sequences(X_test, maxlen = MAX_SEQUENCE_LENGTH, padding='post')\n",
    "#############################################################################\n",
    "#                          END OF YOUR CODE                                 #\n",
    "#############################################################################"
   ]
  },
  {
   "cell_type": "code",
   "execution_count": 107,
   "metadata": {},
   "outputs": [
    {
     "name": "stdout",
     "output_type": "stream",
     "text": [
      "Shape of X_train tensor: (7976, 300)\n",
      "Shape of X_test tensor: (1994, 300)\n"
     ]
    }
   ],
   "source": [
    "print('Shape of X_train tensor:', X_train.shape)\n",
    "print('Shape of X_test tensor:', X_test.shape)\n",
    "\n",
    "# split the data into a training set and a validation set\n",
    "indices = np.arange(X_train.shape[0])\n",
    "np.random.shuffle(indices)\n",
    "X_train = X_train[indices]\n",
    "y_train = y_train[indices]\n",
    "nb_validation_samples = int(VALIDATION_SPLIT * X_train.shape[0])\n",
    "\n",
    "X_val = X_train[-nb_validation_samples:]\n",
    "y_val = y_train[-nb_validation_samples:]\n",
    "X_train = X_train[:-nb_validation_samples]\n",
    "y_train = y_train[:-nb_validation_samples]"
   ]
  },
  {
   "cell_type": "markdown",
   "metadata": {},
   "source": [
    "## word2vec + multiple layer perceptron\n",
    "```\n",
    "_________________________________________________________________\n",
    "Layer (type)                 Output Shape              Param #   \n",
    "=================================================================\n",
    "input_1 (InputLayer)         (None, 300)               0         \n",
    "_________________________________________________________________\n",
    "embedding_1 (Embedding)      (None, 300, 300)          9294900   \n",
    "_________________________________________________________________\n",
    "flatten_1 (Flatten)          (None, 90000)             0         \n",
    "_________________________________________________________________\n",
    "dense_1 (Dense)              (None, 128)               11520128  \n",
    "_________________________________________________________________\n",
    "activation_1 (Activation)    (None, 128)               0         \n",
    "_________________________________________________________________\n",
    "dense_2 (Dense)              (None, 64)                8256      \n",
    "_________________________________________________________________\n",
    "activation_2 (Activation)    (None, 64)                0         \n",
    "_________________________________________________________________\n",
    "dense_3 (Dense)              (None, 32)                2080      \n",
    "_________________________________________________________________\n",
    "activation_3 (Activation)    (None, 32)                0         \n",
    "_________________________________________________________________\n",
    "dense_4 (Dense)              (None, 46)                1518      \n",
    "_________________________________________________________________\n",
    "activation_4 (Activation)    (None, 46)                0         \n",
    "=================================================================\n",
    "Total params: 20,826,882\n",
    "Trainable params: 11,531,982\n",
    "Non-trainable params: 9,294,900\n",
    "_________________________________________________________________\n",
    "```"
   ]
  },
  {
   "cell_type": "code",
   "execution_count": 109,
   "metadata": {},
   "outputs": [
    {
     "name": "stdout",
     "output_type": "stream",
     "text": [
      "_________________________________________________________________\n",
      "Layer (type)                 Output Shape              Param #   \n",
      "=================================================================\n",
      "input_17 (InputLayer)        (None, 300)               0         \n",
      "_________________________________________________________________\n",
      "embedding_5 (Embedding)      (None, 300, 50)           500000    \n",
      "_________________________________________________________________\n",
      "flatten_13 (Flatten)         (None, 15000)             0         \n",
      "_________________________________________________________________\n",
      "dense_42 (Dense)             (None, 128)               1920128   \n",
      "_________________________________________________________________\n",
      "dense_43 (Dense)             (None, 64)                8256      \n",
      "_________________________________________________________________\n",
      "dense_44 (Dense)             (None, 32)                2080      \n",
      "_________________________________________________________________\n",
      "dense_45 (Dense)             (None, 46)                1518      \n",
      "=================================================================\n",
      "Total params: 2,431,982\n",
      "Trainable params: 1,931,982\n",
      "Non-trainable params: 500,000\n",
      "_________________________________________________________________\n",
      "Train on 5584 samples, validate on 2392 samples\n",
      "Epoch 1/20\n",
      "5584/5584 [==============================] - 3s 471us/step - loss: 3.8222 - acc: 0.2842 - val_loss: 3.8142 - val_acc: 0.2170\n",
      "Epoch 2/20\n",
      "5584/5584 [==============================] - 2s 328us/step - loss: 3.8082 - acc: 0.2772 - val_loss: 3.7998 - val_acc: 0.2170\n",
      "Epoch 3/20\n",
      "5584/5584 [==============================] - 2s 329us/step - loss: 3.7941 - acc: 0.2249 - val_loss: 3.7856 - val_acc: 0.2170\n",
      "Epoch 4/20\n",
      "5584/5584 [==============================] - 2s 329us/step - loss: 3.7802 - acc: 0.2249 - val_loss: 3.7714 - val_acc: 0.2170\n",
      "Epoch 5/20\n",
      "5584/5584 [==============================] - 2s 332us/step - loss: 3.7663 - acc: 0.3453 - val_loss: 3.7573 - val_acc: 0.3980\n",
      "Epoch 6/20\n",
      "5584/5584 [==============================] - 2s 331us/step - loss: 3.7525 - acc: 0.3748 - val_loss: 3.7433 - val_acc: 0.3980\n",
      "Epoch 7/20\n",
      "5584/5584 [==============================] - 2s 417us/step - loss: 3.7388 - acc: 0.3748 - val_loss: 3.7294 - val_acc: 0.3980\n",
      "Epoch 8/20\n",
      "5584/5584 [==============================] - 2s 351us/step - loss: 3.7252 - acc: 0.3748 - val_loss: 3.7156 - val_acc: 0.3980\n",
      "Epoch 9/20\n",
      "5584/5584 [==============================] - 2s 335us/step - loss: 3.7117 - acc: 0.3748 - val_loss: 3.7018 - val_acc: 0.3980\n",
      "Epoch 10/20\n",
      "5584/5584 [==============================] - 2s 335us/step - loss: 3.6983 - acc: 0.3748 - val_loss: 3.6881 - val_acc: 0.3980\n",
      "Epoch 11/20\n",
      "5584/5584 [==============================] - 2s 334us/step - loss: 3.6849 - acc: 0.3748 - val_loss: 3.6746 - val_acc: 0.3980\n",
      "Epoch 12/20\n",
      "5584/5584 [==============================] - 2s 333us/step - loss: 3.6716 - acc: 0.3748 - val_loss: 3.6612 - val_acc: 0.3980\n",
      "Epoch 13/20\n",
      "5584/5584 [==============================] - 2s 330us/step - loss: 3.6585 - acc: 0.3748 - val_loss: 3.6477 - val_acc: 0.3980\n",
      "Epoch 14/20\n",
      "5584/5584 [==============================] - 2s 331us/step - loss: 3.6454 - acc: 0.3748 - val_loss: 3.6345 - val_acc: 0.3980\n",
      "Epoch 15/20\n",
      "5584/5584 [==============================] - 2s 336us/step - loss: 3.6324 - acc: 0.3748 - val_loss: 3.6212 - val_acc: 0.3980\n",
      "Epoch 16/20\n",
      "5584/5584 [==============================] - 2s 339us/step - loss: 3.6195 - acc: 0.3748 - val_loss: 3.6081 - val_acc: 0.3980\n",
      "Epoch 17/20\n",
      "5584/5584 [==============================] - 2s 346us/step - loss: 3.6066 - acc: 0.3748 - val_loss: 3.5951 - val_acc: 0.3980\n",
      "Epoch 18/20\n",
      "5584/5584 [==============================] - 3s 469us/step - loss: 3.5939 - acc: 0.3748 - val_loss: 3.5821 - val_acc: 0.3980\n",
      "Epoch 19/20\n",
      "5584/5584 [==============================] - 2s 335us/step - loss: 3.5812 - acc: 0.3748 - val_loss: 3.5693 - val_acc: 0.3980\n",
      "Epoch 20/20\n",
      "5584/5584 [==============================] - 2s 381us/step - loss: 3.5686 - acc: 0.3748 - val_loss: 3.5565 - val_acc: 0.3980\n"
     ]
    },
    {
     "data": {
      "text/plain": [
       "<keras.callbacks.History at 0x7f5f7a8c6c88>"
      ]
     },
     "execution_count": 109,
     "metadata": {},
     "output_type": "execute_result"
    }
   ],
   "source": [
    "#############################################################################\n",
    "# TODO: Define the model of multiple layer perceptron similar to the model  #\n",
    "# summary above into the variable model, compile it and fit it.             #\n",
    "#############################################################################\n",
    "#from keras.models import Sequential\n",
    "\n",
    "\n",
    "input_layer = Input(shape = (MAX_SEQUENCE_LENGTH, ))\n",
    "embedding = embedding_layer(input_layer)\n",
    "flatten = Flatten()(embedding)\n",
    "dense1 = Dense(128, activation = 'relu')(flatten)\n",
    "dense2 = Dense(64, activation = 'relu')(dense1)\n",
    "dense3 = Dense(32, activation = 'relu')(dense2)\n",
    "dense4 = Dense(46, activation = 'softmax')(dense3)\n",
    "\n",
    "model = Model(inputs = input_layer, outputs = dense4)\n",
    "\n",
    "model.summary()\n",
    "\n",
    "model.compile(optimizer = 'adam', \n",
    "              loss = 'categorical_crossentropy', \n",
    "              metrics = ['accuracy'])\n",
    "\n",
    "model.fit(X_train, \n",
    "          y_train, \n",
    "          epochs = 20, \n",
    "          batch_size = 512, \n",
    "          validation_data = (X_val, y_val))\n",
    "\n",
    "#############################################################################\n",
    "#                          END OF YOUR CODE                                 #\n",
    "#############################################################################"
   ]
  },
  {
   "cell_type": "code",
   "execution_count": 110,
   "metadata": {},
   "outputs": [
    {
     "name": "stdout",
     "output_type": "stream",
     "text": [
      "1994/1994 [==============================] - 0s 248us/step\n"
     ]
    },
    {
     "data": {
      "text/plain": [
       "[3.564562201141235, 0.3966900703301999]"
      ]
     },
     "execution_count": 110,
     "metadata": {},
     "output_type": "execute_result"
    }
   ],
   "source": [
    "\n",
    "results = model.evaluate(X_test, y_test)\n",
    "results"
   ]
  },
  {
   "cell_type": "markdown",
   "metadata": {},
   "source": [
    "## word2vec + Conv1D\n",
    "```\n",
    "_________________________________________________________________\n",
    "_________________________________________________________________\n",
    "Layer (type)                 Output Shape              Param #   \n",
    "=================================================================\n",
    "input_2 (InputLayer)         (None, 300)               0         \n",
    "_________________________________________________________________\n",
    "embedding_1 (Embedding)      (None, 300, 300)          9294900   \n",
    "_________________________________________________________________\n",
    "conv1d_1 (Conv1D)            (None, 296, 64)           96064     \n",
    "_________________________________________________________________\n",
    "max_pooling1d_1 (MaxPooling1 (None, 59, 64)            0         \n",
    "_________________________________________________________________\n",
    "flatten_2 (Flatten)          (None, 3776)              0         \n",
    "_________________________________________________________________\n",
    "dropout_1 (Dropout)          (None, 3776)              0         \n",
    "_________________________________________________________________\n",
    "dense_5 (Dense)              (None, 64)                241728    \n",
    "_________________________________________________________________\n",
    "dropout_2 (Dropout)          (None, 64)                0         \n",
    "_________________________________________________________________\n",
    "dense_6 (Dense)              (None, 46)                2990      \n",
    "=================================================================\n",
    "Total params: 9,635,682\n",
    "Trainable params: 340,782\n",
    "Non-trainable params: 9,294,900\n",
    "_________________________________________________________________\n",
    "```"
   ]
  },
  {
   "cell_type": "code",
   "execution_count": 82,
   "metadata": {},
   "outputs": [
    {
     "name": "stdout",
     "output_type": "stream",
     "text": [
      "30982\n",
      "_________________________________________________________________\n",
      "Layer (type)                 Output Shape              Param #   \n",
      "=================================================================\n",
      "input_12 (InputLayer)        (None, 300)               0         \n",
      "_________________________________________________________________\n",
      "embedding_2 (Embedding)      (None, 300, 50)           1549150   \n",
      "_________________________________________________________________\n",
      "flatten_8 (Flatten)          (None, 15000)             0         \n",
      "_________________________________________________________________\n",
      "dense_22 (Dense)             (None, 128)               1920128   \n",
      "_________________________________________________________________\n",
      "dense_23 (Dense)             (None, 64)                8256      \n",
      "_________________________________________________________________\n",
      "dense_24 (Dense)             (None, 32)                2080      \n",
      "_________________________________________________________________\n",
      "dense_25 (Dense)             (None, 46)                1518      \n",
      "=================================================================\n",
      "Total params: 3,481,132\n",
      "Trainable params: 1,931,982\n",
      "Non-trainable params: 1,549,150\n",
      "_________________________________________________________________\n",
      "Train on 5584 samples, validate on 2392 samples\n",
      "Epoch 1/20\n",
      "5584/5584 [==============================] - 2s 370us/step - loss: 1.0614 - acc: 0.7434 - val_loss: 1.9873 - val_acc: 0.5723\n",
      "Epoch 2/20\n",
      "5584/5584 [==============================] - 2s 408us/step - loss: 0.6730 - acc: 0.8286 - val_loss: 2.0171 - val_acc: 0.5602\n",
      "Epoch 3/20\n",
      "5584/5584 [==============================] - 2s 330us/step - loss: 0.5718 - acc: 0.8596 - val_loss: 2.0004 - val_acc: 0.5681\n",
      "Epoch 4/20\n",
      "5584/5584 [==============================] - 2s 333us/step - loss: 0.5170 - acc: 0.8789 - val_loss: 1.9720 - val_acc: 0.5803\n",
      "Epoch 5/20\n",
      "5584/5584 [==============================] - 2s 333us/step - loss: 0.4714 - acc: 0.8899 - val_loss: 1.9796 - val_acc: 0.5832\n",
      "Epoch 6/20\n",
      "5584/5584 [==============================] - 2s 337us/step - loss: 0.4358 - acc: 0.8974 - val_loss: 1.9846 - val_acc: 0.5916\n",
      "Epoch 7/20\n",
      "5584/5584 [==============================] - 2s 333us/step - loss: 0.4091 - acc: 0.9028 - val_loss: 2.0089 - val_acc: 0.5874\n",
      "Epoch 8/20\n",
      "5584/5584 [==============================] - 2s 374us/step - loss: 0.3830 - acc: 0.9112 - val_loss: 2.0603 - val_acc: 0.5903\n",
      "Epoch 9/20\n",
      "5584/5584 [==============================] - 4s 655us/step - loss: 0.3584 - acc: 0.9148 - val_loss: 2.0725 - val_acc: 0.5849\n",
      "Epoch 10/20\n",
      "5584/5584 [==============================] - 3s 534us/step - loss: 0.3316 - acc: 0.9232 - val_loss: 2.0942 - val_acc: 0.5966\n",
      "Epoch 11/20\n",
      "5584/5584 [==============================] - 2s 393us/step - loss: 0.3084 - acc: 0.9284 - val_loss: 2.1296 - val_acc: 0.5890\n",
      "Epoch 12/20\n",
      "5584/5584 [==============================] - 2s 329us/step - loss: 0.2875 - acc: 0.9316 - val_loss: 2.1553 - val_acc: 0.5895\n",
      "Epoch 13/20\n",
      "5584/5584 [==============================] - 2s 324us/step - loss: 0.2679 - acc: 0.9359 - val_loss: 2.1797 - val_acc: 0.5865\n",
      "Epoch 14/20\n",
      "5584/5584 [==============================] - 2s 324us/step - loss: 0.2474 - acc: 0.9422 - val_loss: 2.2225 - val_acc: 0.5936\n",
      "Epoch 15/20\n",
      "5584/5584 [==============================] - 2s 324us/step - loss: 0.2333 - acc: 0.9459 - val_loss: 2.2523 - val_acc: 0.5920\n",
      "Epoch 16/20\n",
      "5584/5584 [==============================] - 2s 340us/step - loss: 0.2117 - acc: 0.9513 - val_loss: 2.2768 - val_acc: 0.5928\n",
      "Epoch 17/20\n",
      "5584/5584 [==============================] - 2s 352us/step - loss: 0.2008 - acc: 0.9538 - val_loss: 2.3275 - val_acc: 0.5857\n",
      "Epoch 18/20\n",
      "5584/5584 [==============================] - 2s 344us/step - loss: 0.1888 - acc: 0.9561 - val_loss: 2.3253 - val_acc: 0.5870\n",
      "Epoch 19/20\n",
      "5584/5584 [==============================] - 2s 353us/step - loss: 0.1733 - acc: 0.9565 - val_loss: 2.3589 - val_acc: 0.5890\n",
      "Epoch 20/20\n",
      "5584/5584 [==============================] - 2s 342us/step - loss: 0.1625 - acc: 0.9622 - val_loss: 2.3935 - val_acc: 0.5844\n"
     ]
    },
    {
     "data": {
      "text/plain": [
       "<keras.callbacks.History at 0x7f5f72ff49b0>"
      ]
     },
     "execution_count": 82,
     "metadata": {},
     "output_type": "execute_result"
    }
   ],
   "source": [
    "#############################################################################\n",
    "# TODO: Define the model of 1D convolution similar to the model summary     #\n",
    "# above into the variable model, compile it and fit it.                     #\n",
    "#############################################################################\n",
    "\n",
    "# input_layer = Input(shape = (MAX_SEQUENCE_LENGTH, ))\n",
    "# embedding = embedding_layer(input_layer)\n",
    "# flatten = Flatten()(embedding)\n",
    "# dense1 = Dense(128, activation = 'relu')(flatten)\n",
    "# dense2 = Dense(64, activation = 'relu')(dense1)\n",
    "# dense3 = Dense(32, activation = 'relu')(dense2)\n",
    "# dense4 = Dense(46, activation = 'softmax')(dense3)\n",
    "\n",
    "\n",
    "input_2 = Input(shape = (MAX_SEQUENCE_LENGTH,))\n",
    "embedding_1 = embedding_layer(input_2)\n",
    "conv1d_1 = Conv1D(64, 4)(embedding_1)\n",
    "max_pooling1d_1 = MaxPooling1D(5)(conv1d_1)\n",
    "flatten_2 = Flatten()(max_pooling1d_1)\n",
    "dropout_1 = Dropout(0.4)(flatten_2)\n",
    "dense_5 = Dense(64, activation = 'relu')(dropout_1)\n",
    "dropout_2 = Dropout(0.3)(dense_5)\n",
    "dense_6 = Dense(46, activation = 'softmax')(dropout_2)\n",
    "\n",
    "\n",
    "\n",
    "print( len(word2index))\n",
    "# input_2 (InputLayer)         (None, 300)               0         \n",
    "# _________________________________________________________________\n",
    "# embedding_1 (Embedding)      (None, 300, 300)          9294900   \n",
    "# _________________________________________________________________\n",
    "# conv1d_1 (Conv1D)            (None, 296, 64)           96064     \n",
    "# _________________________________________________________________\n",
    "# max_pooling1d_1 (MaxPooling1 (None, 59, 64)            0         \n",
    "# _________________________________________________________________\n",
    "# flatten_2 (Flatten)          (None, 3776)              0         \n",
    "# _________________________________________________________________\n",
    "# dropout_1 (Dropout)          (None, 3776)              0         \n",
    "# _________________________________________________________________\n",
    "# dense_5 (Dense)              (None, 64)                241728    \n",
    "# _________________________________________________________________\n",
    "# dropout_2 (Dropout)          (None, 64)                0         \n",
    "# _________________________________________________________________\n",
    "# dense_6 (Dense)              (None, 46)                2990      \n",
    "\n",
    "\n",
    "\n",
    "\n",
    "\n",
    "\n",
    "model = Model(inputs = input_layer, outputs = dense4)\n",
    "\n",
    "model.summary()\n",
    "\n",
    "model.compile(optimizer = 'adam', \n",
    "              loss = 'categorical_crossentropy', \n",
    "              metrics = ['accuracy'])\n",
    "\n",
    "model.fit(X_train, \n",
    "          y_train, \n",
    "          epochs = 20, \n",
    "          batch_size = 512, \n",
    "          validation_data = (X_val, y_val))\n",
    "\n",
    "#############################################################################\n",
    "#                          END OF YOUR CODE                                 #\n",
    "#############################################################################"
   ]
  },
  {
   "cell_type": "code",
   "execution_count": null,
   "metadata": {},
   "outputs": [],
   "source": [
    "results = model.evaluate(X_test, y_test)\n",
    "results"
   ]
  },
  {
   "cell_type": "markdown",
   "metadata": {},
   "source": [
    "## word2vec + LSTM (GRU)\n",
    "```\n",
    "_________________________________________________________________\n",
    "Layer (type)                 Output Shape              Param #   \n",
    "=================================================================\n",
    "input_3 (InputLayer)         (None, 300)               0         \n",
    "_________________________________________________________________\n",
    "embedding_1 (Embedding)      (None, 300, 300)          9294900   \n",
    "_________________________________________________________________\n",
    "lstm_1 (LSTM)                (None, 128)               219648    \n",
    "_________________________________________________________________\n",
    "dense_7 (Dense)              (None, 46)                5934      \n",
    "=================================================================\n",
    "Total params: 9,520,482\n",
    "Trainable params: 225,582\n",
    "Non-trainable params: 9,294,900\n",
    "_________________________________________________________________\n",
    "```"
   ]
  },
  {
   "cell_type": "code",
   "execution_count": null,
   "metadata": {},
   "outputs": [],
   "source": [
    "sequence_input = Input(shape = (MAX_SEQUENCE_LENGTH,), dtype = 'int32')\n",
    "embedded_sequences = embedding_layer(sequence_input)\n",
    "\n",
    "units = 128\n",
    "embedded_sequences = embedding_layer(sequence_input)\n",
    "layer1 = LSTM(units,\n",
    "    dropout = 0.2,\n",
    "    recurrent_dropout = 0.2,\n",
    "    return_sequences = False)\n",
    "x = layer1(embedded_sequences)\n",
    "\n",
    "final_layer = Dense(46, activation = 'softmax')\n",
    "preds = final_layer(x)\n",
    "\n",
    "model = Model(sequence_input, preds)\n",
    "print(model.summary())\n",
    "model.compile(loss = 'categorical_crossentropy',\n",
    "              optimizer = 'adam',\n",
    "              metrics = ['acc'])\n",
    "\n",
    "model.fit(X_train, y_train, validation_data = (X_val, y_val),\n",
    "          epochs = 20, batch_size = 256)"
   ]
  },
  {
   "cell_type": "code",
   "execution_count": null,
   "metadata": {},
   "outputs": [],
   "source": [
    "results = model.evaluate(X_test, y_test)\n",
    "results"
   ]
  }
 ],
 "metadata": {
  "kernelspec": {
   "display_name": "Python 3",
   "language": "python",
   "name": "python3"
  },
  "language_info": {
   "codemirror_mode": {
    "name": "ipython",
    "version": 3
   },
   "file_extension": ".py",
   "mimetype": "text/x-python",
   "name": "python",
   "nbconvert_exporter": "python",
   "pygments_lexer": "ipython3",
   "version": "3.5.2"
  }
 },
 "nbformat": 4,
 "nbformat_minor": 2
}
